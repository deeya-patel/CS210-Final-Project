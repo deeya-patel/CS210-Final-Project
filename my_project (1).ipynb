{
 "cells": [
  {
   "cell_type": "markdown",
   "id": "c1a08017",
   "metadata": {},
   "source": [
    "Before you turn this problem in, make sure everything runs as expected. First, **restart the kernel** (in the menubar, select Kernel $\\rightarrow$ Restart) and then **run all cells** (in the menubar, select Cell $\\rightarrow$ Run All).\n",
    "\n",
    "Make sure you fill in any place that says `YOUR CODE HERE` or \"YOUR ANSWER HERE\", as well as your name and collaborators below:"
   ]
  },
  {
   "cell_type": "code",
   "execution_count": 1,
   "id": "f8756ad5",
   "metadata": {},
   "outputs": [],
   "source": [
    "NAME = \"Tatiana Gonzalez\"\n",
    "COLLABORATORS = \"Deeya Patel\""
   ]
  },
  {
   "cell_type": "code",
   "execution_count": 2,
   "id": "73c63be1-b5ec-4301-811f-9888f6ea6931",
   "metadata": {},
   "outputs": [
    {
     "name": "stdout",
     "output_type": "stream",
     "text": [
      "Defaulting to user installation because normal site-packages is not writeable\n",
      "Requirement already satisfied: pmdarima in /home/tjg181/.local/lib/python3.12/site-packages (2.0.4)\n",
      "Requirement already satisfied: joblib>=0.11 in /usr/lib/anaconda3/lib/python3.12/site-packages (from pmdarima) (1.4.2)\n",
      "Requirement already satisfied: Cython!=0.29.18,!=0.29.31,>=0.29 in /home/tjg181/.local/lib/python3.12/site-packages (from pmdarima) (3.0.11)\n",
      "Requirement already satisfied: numpy>=1.21.2 in /usr/lib/anaconda3/lib/python3.12/site-packages (from pmdarima) (1.26.4)\n",
      "Requirement already satisfied: pandas>=0.19 in /usr/lib/anaconda3/lib/python3.12/site-packages (from pmdarima) (2.2.2)\n",
      "Requirement already satisfied: scikit-learn>=0.22 in /usr/lib/anaconda3/lib/python3.12/site-packages (from pmdarima) (1.4.2)\n",
      "Requirement already satisfied: scipy>=1.3.2 in /usr/lib/anaconda3/lib/python3.12/site-packages (from pmdarima) (1.13.1)\n",
      "Requirement already satisfied: statsmodels>=0.13.2 in /usr/lib/anaconda3/lib/python3.12/site-packages (from pmdarima) (0.14.2)\n",
      "Requirement already satisfied: urllib3 in /usr/lib/anaconda3/lib/python3.12/site-packages (from pmdarima) (2.2.2)\n",
      "Requirement already satisfied: setuptools!=50.0.0,>=38.6.0 in /usr/lib/anaconda3/lib/python3.12/site-packages (from pmdarima) (69.5.1)\n",
      "Requirement already satisfied: packaging>=17.1 in /usr/lib/anaconda3/lib/python3.12/site-packages (from pmdarima) (23.2)\n",
      "Requirement already satisfied: python-dateutil>=2.8.2 in /usr/lib/anaconda3/lib/python3.12/site-packages (from pandas>=0.19->pmdarima) (2.9.0.post0)\n",
      "Requirement already satisfied: pytz>=2020.1 in /usr/lib/anaconda3/lib/python3.12/site-packages (from pandas>=0.19->pmdarima) (2024.1)\n",
      "Requirement already satisfied: tzdata>=2022.7 in /usr/lib/anaconda3/lib/python3.12/site-packages (from pandas>=0.19->pmdarima) (2023.3)\n",
      "Requirement already satisfied: threadpoolctl>=2.0.0 in /usr/lib/anaconda3/lib/python3.12/site-packages (from scikit-learn>=0.22->pmdarima) (2.2.0)\n",
      "Requirement already satisfied: patsy>=0.5.6 in /usr/lib/anaconda3/lib/python3.12/site-packages (from statsmodels>=0.13.2->pmdarima) (0.5.6)\n",
      "Requirement already satisfied: six in /usr/lib/anaconda3/lib/python3.12/site-packages (from patsy>=0.5.6->statsmodels>=0.13.2->pmdarima) (1.16.0)\n",
      "Note: you may need to restart the kernel to use updated packages.\n"
     ]
    }
   ],
   "source": [
    "pip install pmdarima"
   ]
  },
  {
   "cell_type": "code",
   "execution_count": 3,
   "id": "197bc311-ff26-4dff-a9d9-64377d090c47",
   "metadata": {},
   "outputs": [],
   "source": [
    "import numpy as np\n",
    "import pandas as pd\n",
    "from scipy.stats import beta\n",
    "from pmdarima import auto_arima\n",
    "from sklearn.metrics import mean_absolute_error\n",
    "from sklearn.metrics import mean_squared_error\n",
    "from sklearn.metrics import r2_score\n",
    "import matplotlib.pyplot as plt\n",
    "from sklearn.preprocessing import OneHotEncoder\n",
    "import sqlite3\n",
    "import requests\n",
    "from bs4 import BeautifulSoup"
   ]
  },
  {
   "cell_type": "markdown",
   "id": "385a1a27",
   "metadata": {},
   "source": [
    "---"
   ]
  },
  {
   "cell_type": "markdown",
   "id": "d4d51558-897e-497f-aa0d-7c67e39d9b6f",
   "metadata": {},
   "source": [
    "## Read Data"
   ]
  },
  {
   "cell_type": "code",
   "execution_count": 4,
   "id": "0e37836f-6ca2-4d2f-9d60-a353a77c64e9",
   "metadata": {},
   "outputs": [
    {
     "data": {
      "text/html": [
       "<div>\n",
       "<style scoped>\n",
       "    .dataframe tbody tr th:only-of-type {\n",
       "        vertical-align: middle;\n",
       "    }\n",
       "\n",
       "    .dataframe tbody tr th {\n",
       "        vertical-align: top;\n",
       "    }\n",
       "\n",
       "    .dataframe thead th {\n",
       "        text-align: right;\n",
       "    }\n",
       "</style>\n",
       "<table border=\"1\" class=\"dataframe\">\n",
       "  <thead>\n",
       "    <tr style=\"text-align: right;\">\n",
       "      <th></th>\n",
       "      <th>Disease</th>\n",
       "      <th>County</th>\n",
       "      <th>Year</th>\n",
       "      <th>Sex</th>\n",
       "      <th>Cases</th>\n",
       "      <th>Population</th>\n",
       "      <th>Rate</th>\n",
       "      <th>Lower_95__CI</th>\n",
       "      <th>Upper_95__CI</th>\n",
       "    </tr>\n",
       "  </thead>\n",
       "  <tbody>\n",
       "    <tr>\n",
       "      <th>0</th>\n",
       "      <td>Anaplasmosis</td>\n",
       "      <td>Alameda</td>\n",
       "      <td>2001</td>\n",
       "      <td>Female</td>\n",
       "      <td>0.0</td>\n",
       "      <td>746596</td>\n",
       "      <td>-</td>\n",
       "      <td>0.0</td>\n",
       "      <td>0.494</td>\n",
       "    </tr>\n",
       "    <tr>\n",
       "      <th>1</th>\n",
       "      <td>Anaplasmosis</td>\n",
       "      <td>Alameda</td>\n",
       "      <td>2001</td>\n",
       "      <td>Male</td>\n",
       "      <td>0.0</td>\n",
       "      <td>718968</td>\n",
       "      <td>-</td>\n",
       "      <td>0.0</td>\n",
       "      <td>0.513</td>\n",
       "    </tr>\n",
       "    <tr>\n",
       "      <th>2</th>\n",
       "      <td>Anaplasmosis</td>\n",
       "      <td>Alameda</td>\n",
       "      <td>2001</td>\n",
       "      <td>Total</td>\n",
       "      <td>0.0</td>\n",
       "      <td>1465564</td>\n",
       "      <td>-</td>\n",
       "      <td>0.0</td>\n",
       "      <td>0.252</td>\n",
       "    </tr>\n",
       "    <tr>\n",
       "      <th>3</th>\n",
       "      <td>Anaplasmosis</td>\n",
       "      <td>Alameda</td>\n",
       "      <td>2002</td>\n",
       "      <td>Female</td>\n",
       "      <td>0.0</td>\n",
       "      <td>747987</td>\n",
       "      <td>-</td>\n",
       "      <td>0.0</td>\n",
       "      <td>0.493</td>\n",
       "    </tr>\n",
       "    <tr>\n",
       "      <th>4</th>\n",
       "      <td>Anaplasmosis</td>\n",
       "      <td>Alameda</td>\n",
       "      <td>2002</td>\n",
       "      <td>Male</td>\n",
       "      <td>0.0</td>\n",
       "      <td>720481</td>\n",
       "      <td>-</td>\n",
       "      <td>0.0</td>\n",
       "      <td>0.512</td>\n",
       "    </tr>\n",
       "    <tr>\n",
       "      <th>5</th>\n",
       "      <td>Anaplasmosis</td>\n",
       "      <td>Alameda</td>\n",
       "      <td>2002</td>\n",
       "      <td>Total</td>\n",
       "      <td>0.0</td>\n",
       "      <td>1468468</td>\n",
       "      <td>-</td>\n",
       "      <td>0.0</td>\n",
       "      <td>0.251</td>\n",
       "    </tr>\n",
       "    <tr>\n",
       "      <th>6</th>\n",
       "      <td>Anaplasmosis</td>\n",
       "      <td>Alameda</td>\n",
       "      <td>2003</td>\n",
       "      <td>Female</td>\n",
       "      <td>0.0</td>\n",
       "      <td>747441</td>\n",
       "      <td>-</td>\n",
       "      <td>0.0</td>\n",
       "      <td>0.494</td>\n",
       "    </tr>\n",
       "    <tr>\n",
       "      <th>7</th>\n",
       "      <td>Anaplasmosis</td>\n",
       "      <td>Alameda</td>\n",
       "      <td>2003</td>\n",
       "      <td>Male</td>\n",
       "      <td>0.0</td>\n",
       "      <td>719746</td>\n",
       "      <td>-</td>\n",
       "      <td>0.0</td>\n",
       "      <td>0.513</td>\n",
       "    </tr>\n",
       "    <tr>\n",
       "      <th>8</th>\n",
       "      <td>Anaplasmosis</td>\n",
       "      <td>Alameda</td>\n",
       "      <td>2003</td>\n",
       "      <td>Total</td>\n",
       "      <td>0.0</td>\n",
       "      <td>1467187</td>\n",
       "      <td>-</td>\n",
       "      <td>0.0</td>\n",
       "      <td>0.251</td>\n",
       "    </tr>\n",
       "    <tr>\n",
       "      <th>9</th>\n",
       "      <td>Anaplasmosis</td>\n",
       "      <td>Alameda</td>\n",
       "      <td>2004</td>\n",
       "      <td>Female</td>\n",
       "      <td>0.0</td>\n",
       "      <td>746723</td>\n",
       "      <td>-</td>\n",
       "      <td>0.0</td>\n",
       "      <td>0.494</td>\n",
       "    </tr>\n",
       "  </tbody>\n",
       "</table>\n",
       "</div>"
      ],
      "text/plain": [
       "        Disease   County  Year     Sex  Cases  Population Rate  Lower_95__CI  \\\n",
       "0  Anaplasmosis  Alameda  2001  Female    0.0      746596    -           0.0   \n",
       "1  Anaplasmosis  Alameda  2001    Male    0.0      718968    -           0.0   \n",
       "2  Anaplasmosis  Alameda  2001   Total    0.0     1465564    -           0.0   \n",
       "3  Anaplasmosis  Alameda  2002  Female    0.0      747987    -           0.0   \n",
       "4  Anaplasmosis  Alameda  2002    Male    0.0      720481    -           0.0   \n",
       "5  Anaplasmosis  Alameda  2002   Total    0.0     1468468    -           0.0   \n",
       "6  Anaplasmosis  Alameda  2003  Female    0.0      747441    -           0.0   \n",
       "7  Anaplasmosis  Alameda  2003    Male    0.0      719746    -           0.0   \n",
       "8  Anaplasmosis  Alameda  2003   Total    0.0     1467187    -           0.0   \n",
       "9  Anaplasmosis  Alameda  2004  Female    0.0      746723    -           0.0   \n",
       "\n",
       "   Upper_95__CI  \n",
       "0         0.494  \n",
       "1         0.513  \n",
       "2         0.252  \n",
       "3         0.493  \n",
       "4         0.512  \n",
       "5         0.251  \n",
       "6         0.494  \n",
       "7         0.513  \n",
       "8         0.251  \n",
       "9         0.494  "
      ]
     },
     "execution_count": 4,
     "metadata": {},
     "output_type": "execute_result"
    }
   ],
   "source": [
    "# read csv file\n",
    "df = pd.read_csv('california_infectious_diseases.csv')\n",
    "df.head(10)"
   ]
  },
  {
   "cell_type": "markdown",
   "id": "bf81cfa7-a90b-41c4-a547-11ea9d1cd88f",
   "metadata": {},
   "source": [
    "## Data Cleaning"
   ]
  },
  {
   "cell_type": "code",
   "execution_count": 5,
   "id": "01719e65-6c18-400b-b285-e29e5049ea04",
   "metadata": {},
   "outputs": [
    {
     "name": "stdout",
     "output_type": "stream",
     "text": [
      "Missing Values Before Cleaning\n",
      "Disease            0\n",
      "County             0\n",
      "Year               0\n",
      "Sex                0\n",
      "Cases           4754\n",
      "Population         0\n",
      "Rate               0\n",
      "Lower_95__CI    5271\n",
      "Upper_95__CI    5271\n",
      "dtype: int64\n"
     ]
    }
   ],
   "source": [
    "print(\"Missing Values Before Cleaning\")\n",
    "print(df.isna().sum())"
   ]
  },
  {
   "cell_type": "markdown",
   "id": "70de8480-21fa-4a86-afbc-a0bc8079ff5a",
   "metadata": {},
   "source": [
    "### Remove Rows Where County = 'California'"
   ]
  },
  {
   "cell_type": "code",
   "execution_count": 6,
   "id": "61b0c112-f42e-4b68-a211-de4b83919151",
   "metadata": {},
   "outputs": [],
   "source": [
    "df = df[df['County'] != 'California'].reset_index(drop=True)"
   ]
  },
  {
   "cell_type": "markdown",
   "id": "cd6cbb4c-847d-4a8e-a75a-5b6d8ae72783",
   "metadata": {},
   "source": [
    "#### If Rate is '-', Calculate It"
   ]
  },
  {
   "cell_type": "markdown",
   "id": "7d972e49-2d61-494a-9e8a-69ffa29a88d1",
   "metadata": {},
   "source": [
    "##### Formula: (Cases * 100,000) / Population"
   ]
  },
  {
   "cell_type": "code",
   "execution_count": 7,
   "id": "18f878c4-c30d-44fa-ab4b-e7ba1fa21f43",
   "metadata": {},
   "outputs": [
    {
     "name": "stdout",
     "output_type": "stream",
     "text": [
      "Sum of '-' Before:  146078\n",
      "Sum of '-' After:  0\n"
     ]
    },
    {
     "data": {
      "text/html": [
       "<div>\n",
       "<style scoped>\n",
       "    .dataframe tbody tr th:only-of-type {\n",
       "        vertical-align: middle;\n",
       "    }\n",
       "\n",
       "    .dataframe tbody tr th {\n",
       "        vertical-align: top;\n",
       "    }\n",
       "\n",
       "    .dataframe thead th {\n",
       "        text-align: right;\n",
       "    }\n",
       "</style>\n",
       "<table border=\"1\" class=\"dataframe\">\n",
       "  <thead>\n",
       "    <tr style=\"text-align: right;\">\n",
       "      <th></th>\n",
       "      <th>Disease</th>\n",
       "      <th>County</th>\n",
       "      <th>Year</th>\n",
       "      <th>Sex</th>\n",
       "      <th>Cases</th>\n",
       "      <th>Population</th>\n",
       "      <th>Rate</th>\n",
       "      <th>Lower_95__CI</th>\n",
       "      <th>Upper_95__CI</th>\n",
       "    </tr>\n",
       "  </thead>\n",
       "  <tbody>\n",
       "    <tr>\n",
       "      <th>0</th>\n",
       "      <td>Anaplasmosis</td>\n",
       "      <td>Alameda</td>\n",
       "      <td>2001</td>\n",
       "      <td>Female</td>\n",
       "      <td>0.0</td>\n",
       "      <td>746596</td>\n",
       "      <td>0.0</td>\n",
       "      <td>0.0</td>\n",
       "      <td>0.494</td>\n",
       "    </tr>\n",
       "    <tr>\n",
       "      <th>1</th>\n",
       "      <td>Anaplasmosis</td>\n",
       "      <td>Alameda</td>\n",
       "      <td>2001</td>\n",
       "      <td>Male</td>\n",
       "      <td>0.0</td>\n",
       "      <td>718968</td>\n",
       "      <td>0.0</td>\n",
       "      <td>0.0</td>\n",
       "      <td>0.513</td>\n",
       "    </tr>\n",
       "    <tr>\n",
       "      <th>2</th>\n",
       "      <td>Anaplasmosis</td>\n",
       "      <td>Alameda</td>\n",
       "      <td>2001</td>\n",
       "      <td>Total</td>\n",
       "      <td>0.0</td>\n",
       "      <td>1465564</td>\n",
       "      <td>0.0</td>\n",
       "      <td>0.0</td>\n",
       "      <td>0.252</td>\n",
       "    </tr>\n",
       "    <tr>\n",
       "      <th>3</th>\n",
       "      <td>Anaplasmosis</td>\n",
       "      <td>Alameda</td>\n",
       "      <td>2002</td>\n",
       "      <td>Female</td>\n",
       "      <td>0.0</td>\n",
       "      <td>747987</td>\n",
       "      <td>0.0</td>\n",
       "      <td>0.0</td>\n",
       "      <td>0.493</td>\n",
       "    </tr>\n",
       "    <tr>\n",
       "      <th>4</th>\n",
       "      <td>Anaplasmosis</td>\n",
       "      <td>Alameda</td>\n",
       "      <td>2002</td>\n",
       "      <td>Male</td>\n",
       "      <td>0.0</td>\n",
       "      <td>720481</td>\n",
       "      <td>0.0</td>\n",
       "      <td>0.0</td>\n",
       "      <td>0.512</td>\n",
       "    </tr>\n",
       "    <tr>\n",
       "      <th>5</th>\n",
       "      <td>Anaplasmosis</td>\n",
       "      <td>Alameda</td>\n",
       "      <td>2002</td>\n",
       "      <td>Total</td>\n",
       "      <td>0.0</td>\n",
       "      <td>1468468</td>\n",
       "      <td>0.0</td>\n",
       "      <td>0.0</td>\n",
       "      <td>0.251</td>\n",
       "    </tr>\n",
       "    <tr>\n",
       "      <th>6</th>\n",
       "      <td>Anaplasmosis</td>\n",
       "      <td>Alameda</td>\n",
       "      <td>2003</td>\n",
       "      <td>Female</td>\n",
       "      <td>0.0</td>\n",
       "      <td>747441</td>\n",
       "      <td>0.0</td>\n",
       "      <td>0.0</td>\n",
       "      <td>0.494</td>\n",
       "    </tr>\n",
       "    <tr>\n",
       "      <th>7</th>\n",
       "      <td>Anaplasmosis</td>\n",
       "      <td>Alameda</td>\n",
       "      <td>2003</td>\n",
       "      <td>Male</td>\n",
       "      <td>0.0</td>\n",
       "      <td>719746</td>\n",
       "      <td>0.0</td>\n",
       "      <td>0.0</td>\n",
       "      <td>0.513</td>\n",
       "    </tr>\n",
       "    <tr>\n",
       "      <th>8</th>\n",
       "      <td>Anaplasmosis</td>\n",
       "      <td>Alameda</td>\n",
       "      <td>2003</td>\n",
       "      <td>Total</td>\n",
       "      <td>0.0</td>\n",
       "      <td>1467187</td>\n",
       "      <td>0.0</td>\n",
       "      <td>0.0</td>\n",
       "      <td>0.251</td>\n",
       "    </tr>\n",
       "    <tr>\n",
       "      <th>9</th>\n",
       "      <td>Anaplasmosis</td>\n",
       "      <td>Alameda</td>\n",
       "      <td>2004</td>\n",
       "      <td>Female</td>\n",
       "      <td>0.0</td>\n",
       "      <td>746723</td>\n",
       "      <td>0.0</td>\n",
       "      <td>0.0</td>\n",
       "      <td>0.494</td>\n",
       "    </tr>\n",
       "  </tbody>\n",
       "</table>\n",
       "</div>"
      ],
      "text/plain": [
       "        Disease   County  Year     Sex  Cases  Population Rate  Lower_95__CI  \\\n",
       "0  Anaplasmosis  Alameda  2001  Female    0.0      746596  0.0           0.0   \n",
       "1  Anaplasmosis  Alameda  2001    Male    0.0      718968  0.0           0.0   \n",
       "2  Anaplasmosis  Alameda  2001   Total    0.0     1465564  0.0           0.0   \n",
       "3  Anaplasmosis  Alameda  2002  Female    0.0      747987  0.0           0.0   \n",
       "4  Anaplasmosis  Alameda  2002    Male    0.0      720481  0.0           0.0   \n",
       "5  Anaplasmosis  Alameda  2002   Total    0.0     1468468  0.0           0.0   \n",
       "6  Anaplasmosis  Alameda  2003  Female    0.0      747441  0.0           0.0   \n",
       "7  Anaplasmosis  Alameda  2003    Male    0.0      719746  0.0           0.0   \n",
       "8  Anaplasmosis  Alameda  2003   Total    0.0     1467187  0.0           0.0   \n",
       "9  Anaplasmosis  Alameda  2004  Female    0.0      746723  0.0           0.0   \n",
       "\n",
       "   Upper_95__CI  \n",
       "0         0.494  \n",
       "1         0.513  \n",
       "2         0.252  \n",
       "3         0.493  \n",
       "4         0.512  \n",
       "5         0.251  \n",
       "6         0.494  \n",
       "7         0.513  \n",
       "8         0.251  \n",
       "9         0.494  "
      ]
     },
     "execution_count": 7,
     "metadata": {},
     "output_type": "execute_result"
    }
   ],
   "source": [
    "print(\"Sum of '-' Before: \", (df['Rate'] == \"-\").sum())\n",
    "df.loc[df['Rate'] == '-', 'Rate'] = (df['Cases']*100000)/df['Population']\n",
    "print(\"Sum of '-' After: \", (df['Rate'] == \"-\").sum())\n",
    "df.head(10)"
   ]
  },
  {
   "cell_type": "markdown",
   "id": "6d632e4e-434f-4f18-bcf9-108edc96ca58",
   "metadata": {},
   "source": [
    "### Calculate the Exact Clopper-Pearson When Upper and Lower CI are NaN"
   ]
  },
  {
   "cell_type": "code",
   "execution_count": 8,
   "id": "7887c280-8981-4853-a803-8a9f163becde",
   "metadata": {},
   "outputs": [],
   "source": [
    "# method used in dataset calculation to get lower and upper 95 for NaN values\n",
    "def clopper_pearson_exact_method(cases, pop):\n",
    "    alpha = 0.05\n",
    "\n",
    "    # if cases = 0, lower bound should be 0 default\n",
    "    if cases == 0:\n",
    "        lower = 0\n",
    "        upper = beta.ppf(1 - alpha / 2, 1, pop)\n",
    "    elif cases == pop:\n",
    "        lower = beta.ppf(alpha / 2, cases, pop - cases + 1)\n",
    "        upper = 1\n",
    "    else:\n",
    "        lower = beta.ppf(alpha / 2, cases, pop - cases + 1)\n",
    "        upper = beta.ppf(1 - alpha / 2, cases + 1, pop - cases)\n",
    "    return lower * 100000, upper * 100000    "
   ]
  },
  {
   "cell_type": "code",
   "execution_count": 9,
   "id": "96933707-f708-45e9-b896-bf7c1b3c7dd1",
   "metadata": {},
   "outputs": [
    {
     "name": "stdout",
     "output_type": "stream",
     "text": [
      "Lower Upper CI NaN Values Before Cleaning: 5262 5262\n",
      "Lower Upper CI NaN Values After Cleaning: 4754 4754\n"
     ]
    }
   ],
   "source": [
    "print(\"Lower Upper CI NaN Values Before Cleaning:\", df['Lower_95__CI'].isna().sum(), df['Upper_95__CI'].isna().sum())\n",
    "\n",
    "# calculate method only if col is NaN\n",
    "for index, row in df.iterrows():\n",
    "    lower, upper = clopper_pearson_exact_method(row['Cases'], row['Population'])\n",
    "    if pd.isna(df.loc[index, 'Lower_95__CI']):\n",
    "        df.loc[index, 'Lower_95__CI'] = lower\n",
    "    if pd.isna(df.loc[index, 'Upper_95__CI']):\n",
    "        df.loc[index, 'Upper_95__CI'] = upper\n",
    "\n",
    "print(\"Lower Upper CI NaN Values After Cleaning:\", df['Lower_95__CI'].isna().sum(), df['Upper_95__CI'].isna().sum())"
   ]
  },
  {
   "cell_type": "markdown",
   "id": "59773deb-b047-40ed-8dfc-b10cb2d389ff",
   "metadata": {},
   "source": [
    "### If Rate = 'SC', Change Lower_95__CI, Lower_95__CI, Cases, and Rate"
   ]
  },
  {
   "cell_type": "code",
   "execution_count": 10,
   "id": "e3bc382a-66c7-4b77-92f8-da911247b93d",
   "metadata": {},
   "outputs": [
    {
     "name": "stderr",
     "output_type": "stream",
     "text": [
      "/tmp/ipykernel_1873469/1000225841.py:3: FutureWarning: Setting an item of incompatible dtype is deprecated and will raise an error in a future version of pandas. Value 'Suppressed' has dtype incompatible with float64, please explicitly cast to a compatible dtype first.\n",
      "  df.loc[(df['Rate'] == 'SC') | (df['Cases'].isna()), 'Lower_95__CI'] = 'Suppressed'\n",
      "/tmp/ipykernel_1873469/1000225841.py:4: FutureWarning: Setting an item of incompatible dtype is deprecated and will raise an error in a future version of pandas. Value 'Suppressed' has dtype incompatible with float64, please explicitly cast to a compatible dtype first.\n",
      "  df.loc[(df['Rate'] == 'SC') | (df['Cases'].isna()), 'Upper_95__CI'] = 'Suppressed'\n",
      "/tmp/ipykernel_1873469/1000225841.py:5: FutureWarning: Setting an item of incompatible dtype is deprecated and will raise an error in a future version of pandas. Value 'Suppressed' has dtype incompatible with float64, please explicitly cast to a compatible dtype first.\n",
      "  df.loc[(df['Rate'] == 'SC'), 'Cases'] = 'Suppressed'\n"
     ]
    }
   ],
   "source": [
    "# suppressed when Rate = 'SC' or Cases is NaN\n",
    "# protects confidentiality of individuals\n",
    "df.loc[(df['Rate'] == 'SC') | (df['Cases'].isna()), 'Lower_95__CI'] = 'Suppressed'\n",
    "df.loc[(df['Rate'] == 'SC') | (df['Cases'].isna()), 'Upper_95__CI'] = 'Suppressed'\n",
    "df.loc[(df['Rate'] == 'SC'), 'Cases'] = 'Suppressed'\n",
    "df.loc[(df['Rate'] == 'SC'), 'Rate'] = 'Suppressed'\n",
    "df.loc[(df['Cases'].isna()), 'Rate'] = 'Suppressed'\n",
    "df.loc[(df['Cases'].isna()), 'Cases'] = 'Suppressed'"
   ]
  },
  {
   "cell_type": "markdown",
   "id": "a9219f0f-7786-4205-a3d0-fe836a742e1e",
   "metadata": {},
   "source": [
    "### Removing '*' From Rates"
   ]
  },
  {
   "cell_type": "code",
   "execution_count": 11,
   "id": "ee2fc03d-c10b-4367-9944-e0722c7112f7",
   "metadata": {},
   "outputs": [],
   "source": [
    "df.loc[(df['Rate'] != 'Suppressed'), 'Rate'] = df.loc[df['Rate'] != 'Suppressed', 'Rate'].astype(str).str.rstrip('*').astype(float)"
   ]
  },
  {
   "cell_type": "markdown",
   "id": "8d736832-f1f7-450f-9002-f530e786a857",
   "metadata": {},
   "source": [
    "### Add 'Other' to Sexes"
   ]
  },
  {
   "cell_type": "code",
   "execution_count": null,
   "id": "1be8e92e-f59d-4825-b47c-ca8e8648c007",
   "metadata": {},
   "outputs": [],
   "source": [
    "# add rows where sex = 'Other'\n",
    "updated_data = []\n",
    "for i in range(len(df)):\n",
    "    updated_data.append(df.iloc[i])\n",
    "    if df.loc[i, 'Sex'] == 'Male': \n",
    "        if df.loc[i, 'Cases'] != 'Suppressed' and df.loc[i, 'Rate'] != 'Suppressed' and df.loc[i, 'Lower_95__CI'] != 'Suppressed' and df.loc[i, 'Upper_95__CI'] != 'Suppressed':\n",
    "            row_for_other_sex = {'Disease': df.loc[i, 'Disease'], 'County': df.loc[i, 'County'], 'Year': df.loc[i, 'Year'], 'Sex': 'Other', 'Cases': (df.loc[i + 1, 'Cases'] - df.loc[i, 'Cases'] - df.loc[i - 1, 'Cases']), 'Population': (df.loc[i + 1, 'Population'] - df.loc[i, 'Population'] - df.loc[i - 1, 'Population']), 'Rate': None, 'Lower_95__CI': None, 'Upper_95__CI': None} \n",
    "            if row_for_other_sex['Population'] > 0:\n",
    "                row_for_other_sex['Rate'] = (row_for_other_sex['Cases'] * 100000)/row_for_other_sex['Population']\n",
    "                lower, upper = clopper_pearson_exact_method(row_for_other_sex['Cases'], row_for_other_sex['Population'])\n",
    "                row_for_other_sex['Lower_95__CI'] = lower\n",
    "                row_for_other_sex['Upper_95__CI'] = upper                \n",
    "        else:    \n",
    "            row_for_other_sex = {'Disease': df.loc[i, 'Disease'], 'County': df.loc[i, 'County'], 'Year': df.loc[i, 'Year'], 'Sex': 'Other', 'Cases': 'Suppressed', 'Population': (df.loc[i + 1, 'Population'] - df.loc[i, 'Population'] - df.loc[i - 1, 'Population']), 'Rate': 'Suppressed', 'Lower_95__CI': 'Suppressed', 'Upper_95__CI': 'Suppressed'} \n",
    "\n",
    "        # mark all relevant fields as 'Cannot Exist' if the pop for Sex = Other is 0\n",
    "        if row_for_other_sex['Population'] <= 0:\n",
    "            row_for_other_sex['Cases'] = 'Cannot Exist'\n",
    "            row_for_other_sex['Rate'] = 'Cannot Exist'\n",
    "            row_for_other_sex['Lower_95__CI'] = 'Cannot Exist'\n",
    "            row_for_other_sex['Upper_95__CI'] = 'Cannot Exist'\n",
    "            if row_for_other_sex['Population'] < 0:\n",
    "                row_for_other_sex['Population'] = 0\n",
    "                df.loc[i + 1, 'Population'] = df.loc[i, 'Population'] + df.loc[i - 1, 'Population']\n",
    "                df.loc[i + 1, 'Rate'] = (df.loc[i + 1, 'Cases'] * 100000)/df.loc[i + 1, 'Population']\n",
    "                lower, upper = clopper_pearson_exact_method(df.loc[i + 1, 'Cases'], df.loc[i + 1, 'Population'])\n",
    "                df.loc[i + 1, 'Lower_95__CI'] = lower\n",
    "                df.loc[i + 1, 'Upper_95__CI'] = upper\n",
    "        \n",
    "        updated_data.append(pd.Series(row_for_other_sex))\n",
    "\n",
    "final_df = pd.DataFrame(updated_data)"
   ]
  },
  {
   "cell_type": "markdown",
   "id": "3e45b3d0-c2c2-416d-a7e7-a400f41682b1",
   "metadata": {},
   "source": [
    "### Rounding"
   ]
  },
  {
   "cell_type": "markdown",
   "id": "707f6afe-e0ed-47fa-afc0-6c0496039b92",
   "metadata": {},
   "source": [
    "#### Rate, Lower_95__CI, and Upper_95__CI to 3 Decimals"
   ]
  },
  {
   "cell_type": "code",
   "execution_count": null,
   "id": "30085888-7f3b-4a5b-8707-051ece39ca9b",
   "metadata": {},
   "outputs": [],
   "source": [
    "final_df.loc[(final_df['Rate'] != 'Suppressed') & (final_df['Rate'] != 'Cannot Exist'), 'Rate'] = final_df.loc[(final_df['Rate'] != 'Suppressed') & (final_df['Rate'] != 'Cannot Exist'), 'Rate'].astype(float).map(lambda x: f\"{x:.3f}\")\n",
    "final_df.loc[(final_df['Lower_95__CI'] != 'Suppressed') & (final_df['Rate'] != 'Cannot Exist'), 'Lower_95__CI'] = final_df.loc[(final_df['Lower_95__CI'] != 'Suppressed') & (final_df['Rate'] != 'Cannot Exist'), 'Lower_95__CI'].astype(float).map(lambda x: f\"{x:.3f}\")\n",
    "final_df.loc[(final_df['Upper_95__CI'] != 'Suppressed') & (final_df['Rate'] != 'Cannot Exist'), 'Upper_95__CI'] = final_df.loc[(final_df['Upper_95__CI'] != 'Suppressed') & (final_df['Rate'] != 'Cannot Exist'), 'Upper_95__CI'].astype(float).map(lambda x: f\"{x:.3f}\")\n",
    "final_df.loc[(final_df['Cases'] != 'Suppressed') & (final_df['Rate'] != 'Cannot Exist'), 'Cases'] = final_df.loc[(final_df['Cases'] != 'Suppressed') & (final_df['Rate'] != 'Cannot Exist'), 'Cases'].astype(int)"
   ]
  },
  {
   "cell_type": "markdown",
   "id": "59432d72-1fb0-4ef9-a0cd-34fd962b256c",
   "metadata": {},
   "source": [
    "### Print Final DataFrame"
   ]
  },
  {
   "cell_type": "code",
   "execution_count": null,
   "id": "f60bc990-f8da-4755-9792-90f7c6fb3da3",
   "metadata": {},
   "outputs": [],
   "source": [
    "final_df.reset_index(drop=True, inplace=True)\n",
    "print(\"Final DataFrame\")\n",
    "final_df.head(20)"
   ]
  },
  {
   "cell_type": "markdown",
   "id": "6ef599e5-7262-471d-acbb-05c9f38d4c47",
   "metadata": {},
   "source": [
    "## Data Prediction"
   ]
  },
  {
   "cell_type": "code",
   "execution_count": null,
   "id": "2c2b2eed-6443-4edb-8c01-c93f8a06e9c1",
   "metadata": {
    "scrolled": true
   },
   "outputs": [],
   "source": [
    "# remove str data in numerical columns\n",
    "final_df['Rate'] = pd.to_numeric(final_df['Rate'], errors='coerce')\n",
    "final_df['Cases'] = pd.to_numeric(final_df['Cases'], errors='coerce')\n",
    "final_df['Population'] = pd.to_numeric(final_df['Population'], errors='coerce')\n",
    "final_df['Lower_95__CI'] = pd.to_numeric(final_df['Lower_95__CI'], errors='coerce')\n",
    "final_df['Upper_95__CI'] = pd.to_numeric(final_df['Upper_95__CI'], errors='coerce')\n",
    "final_df = final_df.dropna(subset=['Rate', 'Cases', 'Population', 'Lower_95__CI', 'Upper_95__CI'])\n",
    "final_df.to_csv(\"cleaned.csv\", index=False, header=True, sep=',')"
   ]
  },
  {
   "cell_type": "markdown",
   "id": "399d5d0f-d7a3-4e9a-a544-c0d1464465a6",
   "metadata": {},
   "source": [
    "### ARIMA Model"
   ]
  },
  {
   "cell_type": "code",
   "execution_count": null,
   "id": "7e83f15f-e579-453e-be4c-5fe902ce05cc",
   "metadata": {
    "scrolled": true
   },
   "outputs": [],
   "source": [
    "# randomly choose disease, county, and sex\n",
    "disease = np.random.choice(final_df['Disease'].unique())\n",
    "county = np.random.choice(final_df['County'].unique())\n",
    "sex = np.random.choice(final_df['Sex'].unique())\n",
    "\n",
    "filtered_df = final_df[(final_df['Disease'] == disease) & (final_df['County'] == county) & (final_df['Sex'] == sex)]\n",
    "filtered_df.set_index('Year', inplace=True)\n",
    "\n",
    "# split data into train and test sets\n",
    "train_data = filtered_df['Rate'][:int(0.8 * len(filtered_df))]\n",
    "test_data = filtered_df['Rate'][int(0.8 * len(filtered_df)):]\n",
    "\n",
    "# fit ARIMA model\n",
    "model = auto_arima(train_data, seasonal=False, stepwise=True, suppress_warnings=True, error_action=\"ignore\", trace=True)\n",
    "print(model.summary())\n",
    "\n",
    "# rate prediction for 2023 (the last year reported in data + 1)\n",
    "n_periods = 1\n",
    "prediction = model.predict(n_periods)\n",
    "\n",
    "# plot previous rates for 2001 - 2022 and predicted rates for the following year\n",
    "plt.figure(figsize=(12,6))\n",
    "plt.plot(filtered_df.index, filtered_df['Rate'], label='Previous Data')\n",
    "plt.plot(2023, prediction, label=f'Prediction for 2023', color='red', marker='o')\n",
    "plt.title(f'Predicted Rate for {disease} in {county} for {sex} for 2023')\n",
    "plt.xlabel('Year')\n",
    "plt.ylabel('Rate')\n",
    "plt.legend()\n",
    "plt.show()\n",
    "\n",
    "# evaluate performance w/ MAE\n",
    "mae = mean_absolute_error(test_data, model.predict(n_periods=len(test_data)))\n",
    "print(f\"ARIMA Model Mean Absolute Error (MAE): {mae}\")\n",
    "\n",
    "# print predicted rates for following year\n",
    "print(f'Predicted Rates for 2023: {prediction.tolist()}')"
   ]
  },
  {
   "cell_type": "markdown",
   "id": "d7759615-8dd9-45dc-866c-5ceaea5b4daf",
   "metadata": {},
   "source": [
    "### Linear Regression Model"
   ]
  },
  {
   "cell_type": "code",
   "execution_count": null,
   "id": "0fbb4129-0bbf-4fb4-be2b-3b47f5e79516",
   "metadata": {},
   "outputs": [],
   "source": [
    "# one hot encoding\n",
    "encoder = OneHotEncoder()\n",
    "one_hot_encoded = encoder.fit_transform(final_df[['Disease', 'County', 'Sex']]).toarray()\n",
    "one_hot_encoded_df = pd.DataFrame(one_hot_encoded, columns=encoder.get_feature_names_out(['Disease', 'County', 'Sex']))\n",
    "new_df = pd.concat([final_df.reset_index(drop=True), one_hot_encoded_df], axis=1)\n",
    "print(new_df)"
   ]
  },
  {
   "cell_type": "code",
   "execution_count": null,
   "id": "8cb8fc6c-8529-4c07-8db3-ee2087ec2dd3",
   "metadata": {},
   "outputs": [],
   "source": [
    "# create/train linear regression model\n",
    "from sklearn.linear_model import LinearRegression\n",
    "from sklearn.model_selection import train_test_split\n",
    "X = new_df[[col for col in new_df.columns if col.startswith(\"Disease_\") or col.startswith(\"County_\") or col.startswith(\"Sex_\")]]\n",
    "y = new_df['Rate']\n",
    "X_train, X_test, y_train, y_test  = train_test_split(X, y, test_size=0.2, random_state=42)\n",
    "type(X_test)\n",
    "model = LinearRegression()\n",
    "model.fit(X_train, y_train)"
   ]
  },
  {
   "cell_type": "code",
   "execution_count": null,
   "id": "306d1fd6-4eca-424a-b982-7b695743cce1",
   "metadata": {},
   "outputs": [],
   "source": [
    "# create test case to predict rate given the disease, county, and sex\n",
    "test_case = [\n",
    "    ('Anaplasmosis', 'Alameda', 'Female'),\n",
    "    ('Shigellosis', 'Mariposa', 'Male'),\n",
    "    ('Cysticercosis or Taeniasis', 'Inyo', 'Other'),\n",
    "    ('Yersiniosis', 'San Mateo', 'Total'),\n",
    "    ('Zika Virus Infection', 'San Diego', 'Female'),\n",
    "    ('Salmonellosis', 'Riverside', 'Total')\n",
    "]\n",
    "test_case_df = pd.DataFrame(test_case, columns=['Disease', 'County', 'Sex'])\n",
    "test_case_encoded = pd.get_dummies(test_case_df, columns=['Disease', 'County', 'Sex'])\n",
    "test_case_df_final = test_case_encoded.reindex(columns=X_test.columns, fill_value=0)\n",
    "rate_prediction = model.predict(test_case_df_final)\n",
    "print(rate_prediction)"
   ]
  },
  {
   "cell_type": "code",
   "execution_count": null,
   "id": "cc2fc0cd-bee2-4157-8270-eff9c64af0ec",
   "metadata": {},
   "outputs": [],
   "source": [
    "# evaluate linear regression model w/ performance metrics \n",
    "y_pred = model.predict(X_test)\n",
    "print(f\"Mean Squared Error: {mean_squared_error(y_test, y_pred):.2f}\")\n",
    "print(f\"R2 Score: {r2_score(y_test, y_pred):.2f}\")\n",
    "print(\"Model Coefficients:\", model.coef_)\n",
    "print(\"Model Intercept:\", model.intercept_)"
   ]
  },
  {
   "cell_type": "code",
   "execution_count": null,
   "id": "d7eaf092-c4da-4c1f-8fa9-c5a13e3c59a1",
   "metadata": {},
   "outputs": [],
   "source": [
    "# calculate mean rates for every unique disease, county, and sex combination\n",
    "mean_rates = final_df.groupby(['Disease', 'County', 'Sex'])['Rate'].mean().reset_index()\n",
    "test_case_df = pd.DataFrame(test_case, columns=['Disease', 'County', 'Sex'])\n",
    "df_merged = pd.merge(test_case_df, mean_rates, on=['Disease', 'County', 'Sex'], how='left')\n",
    "arr = df_merged['Rate'].to_numpy()\n",
    "print(arr)"
   ]
  },
  {
   "cell_type": "code",
   "execution_count": null,
   "id": "940a9575-2f02-4e85-bee9-cefd7938ec42",
   "metadata": {},
   "outputs": [],
   "source": [
    "# evaluate baseline model and compare against linear regression model\n",
    "mean_rate = y_train.mean()\n",
    "baseline_y_pred = [mean_rate] * len(y_test)\n",
    "print(f\"Baseline Mean Squared Error: {mean_squared_error(y_test, baseline_y_pred):.2f}\")\n",
    "print(f\"Baseline R2 Score: {r2_score(y_test, baseline_y_pred):.2f}\")"
   ]
  },
  {
   "cell_type": "markdown",
   "id": "d4a84f93-b3b8-46f1-b487-2e086e9aedee",
   "metadata": {},
   "source": [
    "## Data Visualization"
   ]
  },
  {
   "cell_type": "code",
   "execution_count": null,
   "id": "d46f8700-0cac-4cc0-b307-b72900f7851a",
   "metadata": {},
   "outputs": [],
   "source": [
    "# plot rate change for a particular disease from 2001 - 2022\n",
    "random_disease = np.random.choice(final_df['Disease'].unique())\n",
    "df2 = final_df[(final_df['Sex'] == 'Total') & (final_df['Disease'] == random_disease)]\n",
    "plt.scatter(df2['Year'], df2['Rate'], label='Rate Change')\n",
    "plt.xlabel('Year')\n",
    "plt.ylabel('Rate (cases per 100,000)')\n",
    "plt.title(f'Rate Change From 2001 to 2022 for {random_disease.capitalize()}')\n",
    "year = df2['Year']\n",
    "rate = df2['Rate']\n",
    "linear_fit = np.polyfit(year, rate, 1)\n",
    "trendline = np.poly1d(linear_fit)\n",
    "plt.plot(df2['Year'], trendline(df2['Year']), label='Trendline', color='red')\n",
    "plt.show()"
   ]
  },
  {
   "cell_type": "code",
   "execution_count": null,
   "id": "364b4cc3-6a81-4f1e-a9cb-91f63091f237",
   "metadata": {},
   "outputs": [],
   "source": [
    "# plot rate change for a particular disease for a specific county from 2001 - 2022\n",
    "random_disease = np.random.choice(final_df['Disease'].unique())\n",
    "random_county = np.random.choice(final_df['County'].unique())\n",
    "df2 = final_df[(final_df['Sex'] == 'Total') & (final_df['Disease'] == random_disease) & (final_df['County'] == random_county)]\n",
    "plt.scatter(df2['Year'], df2['Rate'], label='Rate Change')\n",
    "plt.xlabel('Year')\n",
    "plt.ylabel('Rate (cases per 100,000)')\n",
    "plt.title(f'Rate Change From 2001 to 2022 for {random_disease.capitalize()} within {random_county.capitalize()} County')\n",
    "year = df2['Year']\n",
    "rate = df2['Rate']\n",
    "linear_fit = np.polyfit(year, rate, 1)\n",
    "trendline = np.poly1d(linear_fit)\n",
    "plt.plot(df2['Year'], trendline(df2['Year']), label='Trendline', color='red')\n",
    "plt.show()"
   ]
  },
  {
   "cell_type": "markdown",
   "id": "e8d25b98-1e6e-447f-aeef-661644132194",
   "metadata": {},
   "source": [
    "## Database"
   ]
  },
  {
   "cell_type": "code",
   "execution_count": null,
   "id": "bae90181-fb53-4cd8-914e-37ec1e115aef",
   "metadata": {},
   "outputs": [],
   "source": [
    "conn = sqlite3.connect('california_diseases')\n",
    "cursor = conn.cursor()\n",
    "\n",
    "cursor.execute('DROP TABLE IF EXISTS Disease')\n",
    "cursor.execute('DROP TABLE IF EXISTS CountyCases')\n",
    "\n",
    "# Disease table\n",
    "cursor.execute('''\n",
    "    CREATE TABLE Disease (\n",
    "        name VARCHAR(25) PRIMARY KEY,\n",
    "        link MEDIUMTEXT\n",
    "    )\n",
    "''')\n",
    "\n",
    "# CountyCases table\n",
    "cursor.execute('''\n",
    "    CREATE TABLE CountyCases (\n",
    "        id INTEGER PRIMARY KEY AUTOINCREMENT,\n",
    "        disease VARCHAR(25),\n",
    "        county VARCHAR(25) NOT NULL,\n",
    "        year INTEGER NOT NULL,\n",
    "        sex VARCHAR(6) NOT NULL,\n",
    "        population INTEGER NOT NULL,\n",
    "        cases TEXT,\n",
    "        rate TEXT,\n",
    "        lower_95_ci TEXT,\n",
    "        upper_95_ci TEXT,\n",
    "        FOREIGN KEY (disease) REFERENCES Disease (name)\n",
    "    )\n",
    "''')"
   ]
  },
  {
   "cell_type": "markdown",
   "id": "aba0426b-2672-4c40-9726-7bc795bcd857",
   "metadata": {},
   "source": [
    "### Describe Tables"
   ]
  },
  {
   "cell_type": "code",
   "execution_count": null,
   "id": "90d02eec-7f07-474c-b9cb-a76696c25c1a",
   "metadata": {},
   "outputs": [],
   "source": [
    "# describe Disease table\n",
    "cursor.execute(\"PRAGMA table_info(Disease);\")\n",
    "cursor.fetchall()"
   ]
  },
  {
   "cell_type": "code",
   "execution_count": null,
   "id": "2c4ee0ff-e8d5-40db-a1b3-7631b26ab4bc",
   "metadata": {},
   "outputs": [],
   "source": [
    "# describe CountyCases table\n",
    "cursor.execute(\"PRAGMA table_info(CountyCases);\")\n",
    "cursor.fetchall()"
   ]
  },
  {
   "cell_type": "markdown",
   "id": "c3de1db8-181a-4869-89f7-50d4596ff480",
   "metadata": {},
   "source": [
    "### Insert Into Disease and County Tables"
   ]
  },
  {
   "cell_type": "code",
   "execution_count": null,
   "id": "10be4695-cd4a-4f54-8254-fb403747dc7c",
   "metadata": {},
   "outputs": [],
   "source": [
    "unique_diseases = final_df['Disease'].unique()\n",
    "\n",
    "# insert disease into Disease table\n",
    "cursor.executemany('INSERT OR IGNORE INTO Disease (name) VALUES (?)', [(disease,) for disease in unique_diseases])\n",
    "conn.commit()\n",
    "\n",
    "county_cases = []\n",
    "# append data from each row and col into county_cases\n",
    "for _, row in final_df.iterrows():\n",
    "    county_cases.append((\n",
    "        row['Disease'], row['County'], row['Year'], row['Sex'], row['Population'],\n",
    "        row['Cases'], row['Rate'], row['Lower_95__CI'], row['Upper_95__CI']\n",
    "    ))\n",
    "\n",
    "# insert multiple records into CountyCases table\n",
    "cursor.executemany('''\n",
    "    INSERT INTO CountyCases (disease, county, year, sex, population, cases, rate, lower_95_ci, upper_95_ci)\n",
    "    VALUES (?, ?, ?, ?, ?, ?, ?, ?, ?)\n",
    "''', county_cases)\n",
    "conn.commit()\n",
    "\n",
    "# show first 10 records of Disease table\n",
    "cursor.execute(\"SELECT * FROM Disease LIMIT 10\")\n",
    "rows = cursor.fetchall()\n",
    "for row in rows:\n",
    "    print(row)"
   ]
  },
  {
   "cell_type": "markdown",
   "id": "31b095e7-b797-477e-b68b-a2556160ea37",
   "metadata": {},
   "source": [
    "### Ensure CountCases Table Insertions Are Correct"
   ]
  },
  {
   "cell_type": "code",
   "execution_count": null,
   "id": "76e7a04d-49e3-453b-9fb8-70538ef496d5",
   "metadata": {},
   "outputs": [],
   "source": [
    "# print 10 random records of CountyCases table\n",
    "cursor.execute('''SELECT * FROM CountyCases ORDER BY RANDOM() LIMIT 10''')\n",
    "rows = cursor.fetchall()\n",
    "for row in rows:\n",
    "    print(row)"
   ]
  },
  {
   "cell_type": "code",
   "execution_count": null,
   "id": "d0070c9b-5586-4705-8402-40503ea129ae",
   "metadata": {},
   "outputs": [],
   "source": [
    "# print 10 random cases where cases > 0\n",
    "cursor.execute('''SELECT * FROM CountyCases WHERE cases > 0 ORDER BY RANDOM() LIMIT 10''')\n",
    "rows = cursor.fetchall()\n",
    "for row in rows:\n",
    "    print(row)"
   ]
  },
  {
   "cell_type": "markdown",
   "id": "1f05352d-ec07-4188-9613-f733b7fd1264",
   "metadata": {},
   "source": [
    "### Questions"
   ]
  },
  {
   "cell_type": "markdown",
   "id": "6fc26f7e-b5a7-4da4-aeb8-48cda9b06bbf",
   "metadata": {},
   "source": [
    "#### Which 10 diseases have the highest total case count? "
   ]
  },
  {
   "cell_type": "code",
   "execution_count": null,
   "id": "3bca6aac-92cf-4e04-8348-e69084d44e2e",
   "metadata": {},
   "outputs": [],
   "source": [
    "# gets the cumulative case count for each disease, sorting by descending case count\n",
    "cursor.execute('''\n",
    "    SELECT disease, SUM(CAST(cases as INT)) AS sum_case \n",
    "    FROM CountyCases\n",
    "    WHERE year BETWEEN 2001 AND 2022\n",
    "    GROUP BY disease\n",
    "    ORDER BY sum_case DESC\n",
    "    LIMIT 10\n",
    "''')\n",
    "\n",
    "results = cursor.fetchall()\n",
    "for row in results:\n",
    "    disease, sum_case = row\n",
    "    print(f\"{disease}: {sum_case} cases\")"
   ]
  },
  {
   "cell_type": "markdown",
   "id": "b94affdb-862a-4bf5-8f55-071c06471809",
   "metadata": {},
   "source": [
    "#### What are the 10 most common diseases for females? Males? Others?"
   ]
  },
  {
   "cell_type": "code",
   "execution_count": null,
   "id": "20b43eab-0e8e-4f7b-a1fc-ec2ae1c5d738",
   "metadata": {},
   "outputs": [],
   "source": [
    "# gets the cumulative case count for each sex, sorting by descending case count\n",
    "queries = [\n",
    "    'SELECT sex, disease, SUM(CAST(cases AS INT)) AS max_cases FROM CountyCases WHERE year BETWEEN 2001 AND 2022 AND sex = \"Female\" GROUP BY disease ORDER BY max_cases DESC LIMIT 10',\n",
    "    'SELECT sex, disease, SUM(CAST(cases AS INT)) AS max_cases FROM CountyCases WHERE year BETWEEN 2001 AND 2022 AND sex = \"Male\" GROUP BY disease ORDER BY max_cases DESC LIMIT 10',\n",
    "    'SELECT sex, disease, SUM(CAST(cases AS INT)) AS max_cases FROM CountyCases WHERE year BETWEEN 2001 AND 2022 AND sex = \"Other\" GROUP BY disease ORDER BY max_cases DESC LIMIT 10',\n",
    "]\n",
    "\n",
    "for query in queries:\n",
    "    cursor.execute(query)\n",
    "    results = cursor.fetchall()\n",
    "    for row in results:\n",
    "        sex, disease, max_cases = row\n",
    "        print(f\"{sex}: {disease}, {max_cases} cases\")\n",
    "    print()"
   ]
  },
  {
   "cell_type": "markdown",
   "id": "e56d43c2-0843-48fa-8ac5-fb7b2c6381d8",
   "metadata": {},
   "source": [
    "#### Which 5 counties have the highest disease rate for the top 5 common diseases in 2022?"
   ]
  },
  {
   "cell_type": "code",
   "execution_count": null,
   "id": "cd0593d0-1915-4cc5-a509-a950f8484614",
   "metadata": {},
   "outputs": [],
   "source": [
    "# CommonDisease: gets 5 diseases with the highest total cases and orders by descending\n",
    "# TopCounties: ranks counties by descending rate for each disease\n",
    "    # PARTITION BY: divides the rows into partitions by disease name, orders by descending rate\n",
    "    # ROW_NUMBER(): assigns each row in each partition a sequential int num\n",
    "# gets the top 5 counties for each disease that have the highest rates\n",
    "cursor.execute('''\n",
    "WITH CommonDiseases AS (\n",
    "    SELECT disease, SUM(CAST(cases AS INT)) AS sum_case\n",
    "    FROM CountyCases\n",
    "    WHERE year BETWEEN 2001 AND 2022\n",
    "    GROUP BY disease\n",
    "    ORDER BY sum_case DESC\n",
    "    LIMIT 5\n",
    "),\n",
    "TopCounties AS (\n",
    "    SELECT cd.disease, cc.county, \n",
    "        MAX(CAST(cc.rate AS REAL)) AS max_rate,\n",
    "        ROW_NUMBER() OVER (PARTITION BY cd.disease ORDER BY MAX(CAST(cc.rate AS REAL)) DESC) AS rank,\n",
    "        cd.sum_case\n",
    "    FROM (\n",
    "        SELECT DISTINCT disease, county, rate\n",
    "        FROM CountyCases\n",
    "        WHERE year = 2022\n",
    "    ) AS cc\n",
    "    JOIN CommonDiseases cd ON cc.disease = cd.disease\n",
    "    GROUP BY cd.disease, cc.county, cd.sum_case\n",
    ")\n",
    "SELECT disease, county, ROUND(max_rate, 3) AS max_rate\n",
    "FROM TopCounties\n",
    "WHERE rank <= 5\n",
    "ORDER BY sum_case DESC, disease, rank\n",
    "''')\n",
    "\n",
    "results = cursor.fetchall()\n",
    "for i, row in enumerate(results):\n",
    "    disease, county, max_rate = row\n",
    "    print(f\"{disease}: {county} County, {max_rate:.3f}\")  \n",
    "    if (i + 1) % 5 == 0:\n",
    "        print()"
   ]
  },
  {
   "cell_type": "markdown",
   "id": "8ee9f544-d344-40b7-9aa5-adcbd92d2345",
   "metadata": {},
   "source": [
    "## Web Scraping"
   ]
  },
  {
   "cell_type": "code",
   "execution_count": null,
   "id": "ba484211-31bf-4585-a651-b1eae8d9ec4e",
   "metadata": {},
   "outputs": [],
   "source": [
    "# search wikipedia using search results or direct page match\n",
    "def search_wiki(disease):\n",
    "    search_url = f\"https://en.wikipedia.org/w/index.php?search={disease.replace(' ', '+')}\"\n",
    "    response = requests.get(search_url)\n",
    "    soup = BeautifulSoup(response.text, \"html.parser\")\n",
    "\n",
    "    # get first search result\n",
    "    first = soup.find(\"li\", class_=\"mw-search-result\")\n",
    "    if first:\n",
    "        link = \"https://en.wikipedia.org\" + first.find(\"a\")[\"href\"]\n",
    "        return link\n",
    "    else:\n",
    "        # see if there's a direct page match\n",
    "        direct_match = soup.find(\"h1\", class_=\"firstHeading\")\n",
    "        if direct_match and \"Search results\" not in direct_match.text:\n",
    "            return search_url\n",
    "        return None"
   ]
  },
  {
   "cell_type": "code",
   "execution_count": null,
   "id": "5d4ddc16-cb11-40d6-87d1-39cb2e9b632c",
   "metadata": {},
   "outputs": [],
   "source": [
    "# get wiki link for every disease\n",
    "unique_diseases = final_df['Disease'].unique()\n",
    "for disease in unique_diseases:\n",
    "    link = search_wiki(disease)\n",
    "    if link:\n",
    "        cursor.execute('UPDATE Disease SET link = ? WHERE name = ?', (link, disease))\n",
    "conn.commit()\n",
    "\n",
    "cursor.execute(\"SELECT * FROM Disease\")\n",
    "rows = cursor.fetchall()\n",
    "for row in rows:\n",
    "    print(row)"
   ]
  },
  {
   "cell_type": "code",
   "execution_count": null,
   "id": "bc8dd0b0-f33b-4219-923c-5494c340a1e4",
   "metadata": {},
   "outputs": [],
   "source": [
    "# close connection\n",
    "conn.close()"
   ]
  }
 ],
 "metadata": {
  "kernelspec": {
   "display_name": "Python 3 (ipykernel)",
   "language": "python",
   "name": "python3"
  },
  "language_info": {
   "codemirror_mode": {
    "name": "ipython",
    "version": 3
   },
   "file_extension": ".py",
   "mimetype": "text/x-python",
   "name": "python",
   "nbconvert_exporter": "python",
   "pygments_lexer": "ipython3",
   "version": "3.12.2"
  }
 },
 "nbformat": 4,
 "nbformat_minor": 5
}
