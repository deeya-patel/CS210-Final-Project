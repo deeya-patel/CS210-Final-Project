{
 "cells": [
  {
   "cell_type": "markdown",
   "id": "c1a08017",
   "metadata": {},
   "source": [
    "Before you turn this problem in, make sure everything runs as expected. First, **restart the kernel** (in the menubar, select Kernel $\\rightarrow$ Restart) and then **run all cells** (in the menubar, select Cell $\\rightarrow$ Run All).\n",
    "\n",
    "Make sure you fill in any place that says `YOUR CODE HERE` or \"YOUR ANSWER HERE\", as well as your name and collaborators below:"
   ]
  },
  {
   "cell_type": "code",
   "execution_count": 1,
   "id": "f8756ad5",
   "metadata": {},
   "outputs": [],
   "source": [
    "NAME = \"Deeya Patel\"\n",
    "COLLABORATORS = \"Tatiana Gonzalez\""
   ]
  },
  {
   "cell_type": "markdown",
   "id": "385a1a27",
   "metadata": {},
   "source": [
    "---"
   ]
  },
  {
   "cell_type": "code",
   "execution_count": 2,
   "id": "a4cc5014-7a97-4cf3-8019-000baf5770a6",
   "metadata": {},
   "outputs": [
    {
     "name": "stdout",
     "output_type": "stream",
     "text": [
      "Defaulting to user installation because normal site-packages is not writeable\n",
      "Requirement already satisfied: pmdarima in /home/dmp450/.local/lib/python3.12/site-packages (2.0.4)\n",
      "Requirement already satisfied: joblib>=0.11 in /usr/lib/anaconda3/lib/python3.12/site-packages (from pmdarima) (1.4.2)\n",
      "Requirement already satisfied: Cython!=0.29.18,!=0.29.31,>=0.29 in /home/dmp450/.local/lib/python3.12/site-packages (from pmdarima) (3.0.11)\n",
      "Requirement already satisfied: numpy>=1.21.2 in /usr/lib/anaconda3/lib/python3.12/site-packages (from pmdarima) (1.26.4)\n",
      "Requirement already satisfied: pandas>=0.19 in /usr/lib/anaconda3/lib/python3.12/site-packages (from pmdarima) (2.2.2)\n",
      "Requirement already satisfied: scikit-learn>=0.22 in /usr/lib/anaconda3/lib/python3.12/site-packages (from pmdarima) (1.4.2)\n",
      "Requirement already satisfied: scipy>=1.3.2 in /usr/lib/anaconda3/lib/python3.12/site-packages (from pmdarima) (1.13.1)\n",
      "Requirement already satisfied: statsmodels>=0.13.2 in /usr/lib/anaconda3/lib/python3.12/site-packages (from pmdarima) (0.14.2)\n",
      "Requirement already satisfied: urllib3 in /usr/lib/anaconda3/lib/python3.12/site-packages (from pmdarima) (2.2.2)\n",
      "Requirement already satisfied: setuptools!=50.0.0,>=38.6.0 in /usr/lib/anaconda3/lib/python3.12/site-packages (from pmdarima) (69.5.1)\n",
      "Requirement already satisfied: packaging>=17.1 in /usr/lib/anaconda3/lib/python3.12/site-packages (from pmdarima) (23.2)\n",
      "Requirement already satisfied: python-dateutil>=2.8.2 in /usr/lib/anaconda3/lib/python3.12/site-packages (from pandas>=0.19->pmdarima) (2.9.0.post0)\n",
      "Requirement already satisfied: pytz>=2020.1 in /usr/lib/anaconda3/lib/python3.12/site-packages (from pandas>=0.19->pmdarima) (2024.1)\n",
      "Requirement already satisfied: tzdata>=2022.7 in /usr/lib/anaconda3/lib/python3.12/site-packages (from pandas>=0.19->pmdarima) (2023.3)\n",
      "Requirement already satisfied: threadpoolctl>=2.0.0 in /usr/lib/anaconda3/lib/python3.12/site-packages (from scikit-learn>=0.22->pmdarima) (2.2.0)\n",
      "Requirement already satisfied: patsy>=0.5.6 in /usr/lib/anaconda3/lib/python3.12/site-packages (from statsmodels>=0.13.2->pmdarima) (0.5.6)\n",
      "Requirement already satisfied: six in /usr/lib/anaconda3/lib/python3.12/site-packages (from patsy>=0.5.6->statsmodels>=0.13.2->pmdarima) (1.16.0)\n",
      "Note: you may need to restart the kernel to use updated packages.\n"
     ]
    }
   ],
   "source": [
    "pip install pmdarima"
   ]
  },
  {
   "cell_type": "code",
   "execution_count": 3,
   "id": "5ac84c4e-b967-4dc4-9a81-a3488037a9f6",
   "metadata": {},
   "outputs": [],
   "source": [
    "import pandas as pd\n",
    "from scipy.stats import beta\n",
    "from sklearn.metrics import mean_absolute_error\n",
    "import matplotlib.pyplot as plt\n",
    "import numpy as np\n",
    "from pmdarima import auto_arima\n",
    "from sklearn.preprocessing import OneHotEncoder\n",
    "from sklearn.linear_model import LinearRegression\n",
    "from sklearn.model_selection import train_test_split\n",
    "from sklearn.metrics import mean_squared_error\n",
    "from sklearn.metrics import r2_score\n",
    "import sqlite3\n",
    "import requests\n",
    "from bs4 import BeautifulSoup\n",
    "from IPython.display import Image"
   ]
  },
  {
   "cell_type": "code",
   "execution_count": 4,
   "id": "091e497b-e35d-4720-b9dc-fcb60bb9e136",
   "metadata": {},
   "outputs": [],
   "source": [
    "%matplotlib inline"
   ]
  },
  {
   "cell_type": "markdown",
   "id": "c5a45934-d75c-4ac4-a6f9-26c16fc0d93c",
   "metadata": {},
   "source": [
    "# Read Data"
   ]
  },
  {
   "cell_type": "code",
   "execution_count": 5,
   "id": "c2b1acda-fa9c-46c9-b653-6cbec65a4424",
   "metadata": {},
   "outputs": [
    {
     "name": "stdout",
     "output_type": "stream",
     "text": [
      "        Disease   County  Year     Sex  Cases  Population Rate  Lower_95__CI  \\\n",
      "0  Anaplasmosis  Alameda  2001  Female    0.0      746596    -           0.0   \n",
      "1  Anaplasmosis  Alameda  2001    Male    0.0      718968    -           0.0   \n",
      "2  Anaplasmosis  Alameda  2001   Total    0.0     1465564    -           0.0   \n",
      "3  Anaplasmosis  Alameda  2002  Female    0.0      747987    -           0.0   \n",
      "4  Anaplasmosis  Alameda  2002    Male    0.0      720481    -           0.0   \n",
      "5  Anaplasmosis  Alameda  2002   Total    0.0     1468468    -           0.0   \n",
      "6  Anaplasmosis  Alameda  2003  Female    0.0      747441    -           0.0   \n",
      "7  Anaplasmosis  Alameda  2003    Male    0.0      719746    -           0.0   \n",
      "8  Anaplasmosis  Alameda  2003   Total    0.0     1467187    -           0.0   \n",
      "9  Anaplasmosis  Alameda  2004  Female    0.0      746723    -           0.0   \n",
      "\n",
      "   Upper_95__CI  \n",
      "0         0.494  \n",
      "1         0.513  \n",
      "2         0.252  \n",
      "3         0.493  \n",
      "4         0.512  \n",
      "5         0.251  \n",
      "6         0.494  \n",
      "7         0.513  \n",
      "8         0.251  \n",
      "9         0.494  \n"
     ]
    }
   ],
   "source": [
    "# Read CSV file\n",
    "df = pd.read_csv(\"california_infectious_diseases.csv\")\n",
    "print(df.head(10))"
   ]
  },
  {
   "cell_type": "markdown",
   "id": "e8d5261e-dda8-4f58-bb4e-1243430548ee",
   "metadata": {},
   "source": [
    "# Data Cleaning"
   ]
  },
  {
   "cell_type": "code",
   "execution_count": 6,
   "id": "67817880-0454-449a-abac-b781dd2988af",
   "metadata": {},
   "outputs": [],
   "source": [
    "# Remove rows where County = California\n",
    "df = df[df['County'] != 'California'].reset_index(drop=True)"
   ]
  },
  {
   "cell_type": "code",
   "execution_count": 7,
   "id": "4457913e-2442-40d6-9c89-ab459b9efb38",
   "metadata": {},
   "outputs": [],
   "source": [
    "# If Rate is a '-', then calculate Rate\n",
    "df.loc[df['Rate'] == '-', 'Rate'] = (df['Cases'] * 100000)/df['Population']"
   ]
  },
  {
   "cell_type": "code",
   "execution_count": 8,
   "id": "36e0f295-17af-40f2-ad54-a233099b2666",
   "metadata": {},
   "outputs": [],
   "source": [
    "# Compute the Lower_95__CI and Upper_95__CI for rows where they are NaN using the Clopper-Pearson exact method\n",
    "def clopper_pearson_exact_method(cases, pop, alpha = 0.05):\n",
    "    if cases == 0:\n",
    "        lower = 0\n",
    "        upper = beta.ppf(1 - alpha / 2, 1, pop)\n",
    "    elif cases == pop:\n",
    "        lower = beta.ppf(alpha / 2, cases, pop - cases + 1)\n",
    "        upper = 1\n",
    "    else:\n",
    "        lower = beta.ppf(alpha / 2, cases, pop - cases + 1)\n",
    "        upper = beta.ppf(1 - alpha / 2, cases + 1, pop - cases)\n",
    "    return lower * 100000, upper * 100000\n",
    "\n",
    "for index, row in df.iterrows():\n",
    "    lower, upper = clopper_pearson_exact_method(row['Cases'], row['Population'])\n",
    "    if pd.isna(row['Lower_95__CI']):\n",
    "        df.loc[index, 'Lower_95__CI'] = lower\n",
    "    if pd.isna(row['Upper_95__CI']):\n",
    "        df.loc[index, 'Upper_95__CI'] = upper"
   ]
  },
  {
   "cell_type": "code",
   "execution_count": 9,
   "id": "caee81f2-07fc-4805-b539-7cb99b210f56",
   "metadata": {},
   "outputs": [],
   "source": [
    "# Fill in Cases, Lower_95__CI, Upper_95__CI, and Rate if Rate is SC or Cases is NaN, which indicates cells were Suppressed \n",
    "# Values are marked 'Suppressed' \"to protect confidentiality of the individuals summarized in the data.”\n",
    "df['Cases'] = df['Cases'].astype(object)\n",
    "df['Rate'] = df['Rate'].astype(object)\n",
    "df['Lower_95__CI'] = df['Lower_95__CI'].astype(object)\n",
    "df['Upper_95__CI'] = df['Upper_95__CI'].astype(object)\n",
    "df.loc[(df['Rate'] == 'SC') | (df['Cases'].isna()), 'Lower_95__CI'] = 'Suppressed'\n",
    "df.loc[(df['Rate'] == 'SC') | (df['Cases'].isna()), 'Upper_95__CI'] = 'Suppressed'\n",
    "df.loc[(df['Rate'] == 'SC'), 'Cases'] = 'Suppressed'\n",
    "df.loc[(df['Rate'] == 'SC'), 'Rate'] = 'Suppressed'\n",
    "df.loc[(df['Cases'].isna()), 'Rate'] = 'Suppressed'\n",
    "df.loc[(df['Cases'].isna()), 'Cases'] = 'Suppressed'"
   ]
  },
  {
   "cell_type": "code",
   "execution_count": 10,
   "id": "f42ad911-f84d-4308-b265-1f775c353d5f",
   "metadata": {},
   "outputs": [],
   "source": [
    "# Remove the asterisks from the rates\n",
    "df.loc[(df['Rate'] != 'Suppressed'), 'Rate'] = df.loc[df['Rate'] != 'Suppressed', 'Rate'].astype(str).str.rstrip('*').astype(float)"
   ]
  },
  {
   "cell_type": "code",
   "execution_count": 11,
   "id": "1273ba10-78f8-4c73-b1a3-08677410c995",
   "metadata": {},
   "outputs": [],
   "source": [
    "# Add rows where Sex is 'Other'\n",
    "updated_data = []\n",
    "for i in range(len(df)):\n",
    "    updated_data.append(df.iloc[i])\n",
    "    if df.loc[i, 'Sex'] == 'Male': \n",
    "        if df.loc[i, 'Cases'] != 'Suppressed' and df.loc[i, 'Rate'] != 'Suppressed' and df.loc[i, 'Lower_95__CI'] != 'Suppressed' and df.loc[i, 'Upper_95__CI'] != 'Suppressed':\n",
    "            row_for_other_sex = {'Disease': df.loc[i, 'Disease'], 'County': df.loc[i, 'County'], 'Year': df.loc[i, 'Year'], 'Sex': 'Other', 'Cases': (df.loc[i + 1, 'Cases'] - df.loc[i, 'Cases'] - df.loc[i - 1, 'Cases']), 'Population': (df.loc[i + 1, 'Population'] - df.loc[i, 'Population'] - df.loc[i - 1, 'Population']), 'Rate': None, 'Lower_95__CI': None, 'Upper_95__CI': None} \n",
    "            if row_for_other_sex['Population'] > 0:\n",
    "                row_for_other_sex['Rate'] = (row_for_other_sex['Cases'] * 100000)/row_for_other_sex['Population']\n",
    "                lower, upper = clopper_pearson_exact_method(row_for_other_sex['Cases'], row_for_other_sex['Population'])\n",
    "                row_for_other_sex['Lower_95__CI'] = lower\n",
    "                row_for_other_sex['Upper_95__CI'] = upper\n",
    "            \n",
    "        else:\n",
    "            row_for_other_sex = {'Disease': df.loc[i, 'Disease'], 'County': df.loc[i, 'County'], 'Year': df.loc[i, 'Year'], 'Sex': 'Other', 'Cases': 'Suppressed', 'Population': (df.loc[i + 1, 'Population'] - df.loc[i, 'Population'] - df.loc[i - 1, 'Population']), 'Rate': 'Suppressed', 'Lower_95__CI': 'Suppressed', 'Upper_95__CI': 'Suppressed'} \n",
    "\n",
    "        #Mark all relevant fields as 'Cannot Exist' if the population for Sex = Other is zero\n",
    "        if row_for_other_sex['Population'] <= 0:\n",
    "                row_for_other_sex['Cases'] = 'Cannot Exist'\n",
    "                row_for_other_sex['Rate'] = 'Cannot Exist'\n",
    "                row_for_other_sex['Lower_95__CI'] = 'Cannot Exist'\n",
    "                row_for_other_sex['Upper_95__CI'] = 'Cannot Exist'    \n",
    "                if row_for_other_sex['Population'] < 0:\n",
    "                    row_for_other_sex['Population'] = 0\n",
    "                    df.loc[i + 1, 'Population'] = df.loc[i, 'Population'] + df.loc[i - 1, 'Population']\n",
    "                    df.loc[i + 1, 'Rate'] = (df.loc[i + 1, 'Cases'] * 100000)/df.loc[i + 1, 'Population']\n",
    "                    lower, upper = clopper_pearson_exact_method(df.loc[i + 1, 'Cases'], df.loc[i + 1, 'Population'])\n",
    "                    df.loc[i + 1, 'Lower_95__CI'] = lower\n",
    "                    df.loc[i + 1, 'Upper_95__CI'] = upper\n",
    "        updated_data.append(pd.Series(row_for_other_sex))\n",
    "\n",
    "final_df = pd.DataFrame(updated_data)"
   ]
  },
  {
   "cell_type": "code",
   "execution_count": 12,
   "id": "05e5feeb-acf4-419f-bd18-3396d8c68db9",
   "metadata": {},
   "outputs": [],
   "source": [
    "# Format Rate, Lower_95__CI, and Upper_95__CI up to 3 decimals and Cases with no decimals\n",
    "final_df.loc[(final_df['Rate'] != 'Suppressed') & (final_df['Rate'] != 'Cannot Exist'), 'Rate'] = final_df.loc[(final_df['Rate'] != 'Suppressed') & (final_df['Rate'] != 'Cannot Exist'), 'Rate'].astype(float).map(lambda x: f\"{x:.3f}\")\n",
    "final_df.loc[(final_df['Lower_95__CI'] != 'Suppressed') & (final_df['Lower_95__CI'] != 'Cannot Exist'), 'Lower_95__CI'] = final_df.loc[(final_df['Lower_95__CI'] != 'Suppressed') & (final_df['Lower_95__CI'] != 'Cannot Exist'), 'Lower_95__CI'].astype(float).map(lambda x: f\"{x:.3f}\")\n",
    "final_df.loc[(final_df['Upper_95__CI'] != 'Suppressed') & (final_df['Upper_95__CI'] != 'Cannot Exist'), 'Upper_95__CI'] = final_df.loc[(final_df['Upper_95__CI'] != 'Suppressed') & (final_df['Upper_95__CI'] != 'Cannot Exist'), 'Upper_95__CI'].astype(float).map(lambda x: f\"{x:.3f}\")\n",
    "final_df.loc[(final_df['Cases'] != 'Suppressed') & (final_df['Cases'] != 'Cannot Exist'), 'Cases'] = final_df.loc[(final_df['Cases'] != 'Suppressed') & (final_df['Cases'] != 'Cannot Exist'), 'Cases'].astype(int)"
   ]
  },
  {
   "cell_type": "code",
   "execution_count": 13,
   "id": "8aa9112e-2287-401e-89eb-08ebcd9da8d2",
   "metadata": {},
   "outputs": [],
   "source": [
    "# Export cleaned data to new CSV file\n",
    "final_df.reset_index(drop=True, inplace=True)\n",
    "final_df.to_csv('california_infectious_diseases_cleaned.csv', index=False, header=True, sep=',')"
   ]
  },
  {
   "cell_type": "markdown",
   "id": "2a3462b9-f48a-4b5d-aed0-4820fd5edc5d",
   "metadata": {},
   "source": [
    "# Data Prediction"
   ]
  },
  {
   "cell_type": "code",
   "execution_count": 14,
   "id": "a82feb8a-2600-443e-b1e8-01d169271d6b",
   "metadata": {},
   "outputs": [],
   "source": [
    "# Remove String data in numerical columns\n",
    "final_df['Rate'] = pd.to_numeric(final_df['Rate'], errors='coerce')\n",
    "final_df['Cases'] = pd.to_numeric(final_df['Cases'], errors='coerce')\n",
    "final_df['Population'] = pd.to_numeric(final_df['Population'], errors='coerce')\n",
    "final_df['Lower_95__CI'] = pd.to_numeric(final_df['Lower_95__CI'], errors='coerce')\n",
    "final_df['Upper_95__CI'] = pd.to_numeric(final_df['Upper_95__CI'], errors='coerce')\n",
    "final_df = final_df.dropna(subset=['Rate', 'Cases', 'Population', 'Lower_95__CI', 'Upper_95__CI'])"
   ]
  },
  {
   "cell_type": "markdown",
   "id": "e955913e-c2b8-4350-a6d6-26912726dd6a",
   "metadata": {},
   "source": [
    "### ARIMA Model"
   ]
  },
  {
   "cell_type": "code",
   "execution_count": null,
   "id": "7e1c016f-f8c4-4dbf-9c89-c146060c9896",
   "metadata": {},
   "outputs": [],
   "source": [
    "# Randomly choose Disease, County, and Sex\n",
    "disease = np.random.choice(final_df['Disease'].unique())\n",
    "county = np.random.choice(final_df['County'].unique())\n",
    "sex = np.random.choice(final_df['Sex'].unique())\n",
    "\n",
    "filtered_df = final_df[(final_df['Disease'] == disease) & (final_df['County'] == county) & (final_df['Sex'] == sex)]\n",
    "filtered_df.set_index(pd.to_datetime(filtered_df['Year'], format='%Y'), inplace=True)\n",
    "\n",
    "# Split data into training and test sets\n",
    "train_data = filtered_df['Rate'][:int(0.8 * len(filtered_df))]\n",
    "test_data = filtered_df['Rate'][int(0.8 * len(filtered_df)):]\n",
    "\n",
    "if len(filtered_df) == 0:\n",
    "    print(\"Cannot predict a rate for a future year due to lack of data.\")\n",
    "elif filtered_df['Rate'].nunique() <= 5:\n",
    "    prediction = [filtered_df['Rate'].mode().iloc[0]]\n",
    "    print(\"There is little to no variability to fit the model. The prediction rate displayed is the mode.\")\n",
    "\n",
    "    # Print predicted rate for 2023\n",
    "    print(f'Predicted Rate for 2023: {prediction}')\n",
    "elif len(filtered_df) < 10:\n",
    "    print(\"There is not enough data to fit the model. The prediction rate displayed is the mean.\")\n",
    "    prediction = [filtered_df['Rate'].mean()]\n",
    "    \n",
    "    # Print predicted rate for 2023\n",
    "    print(f'Predicted Rate for 2023: {prediction}')\n",
    "else:\n",
    "    # Fit ARIMA model\n",
    "    model = auto_arima(train_data, seasonal=False, stepwise=True, suppress_warnings=True, error_action=\"ignore\", trace=True)\n",
    "    \n",
    "    print(model.summary())\n",
    "    \n",
    "    # Rate prediction for the year 2023 (the last year reported in our collected data + 1)\n",
    "    prediction = model.predict(n_periods = 1)\n",
    "\n",
    "    # Evaluate performance with mean absolute error\n",
    "    mae = mean_absolute_error(test_data, model.predict(n_periods=len(test_data)))\n",
    "    print(f\"ARIMA Model Mean Absolute Error (MAE): {mae}\")\n",
    "    \n",
    "    # Print predicted rate for 2023\n",
    "    print(f'Predicted Rate for 2023: {prediction.tolist()}')\n",
    "\n",
    "if len(filtered_df) != 0:\n",
    "    # Plot previous rates until 2022 and the predicted rate for 2023\n",
    "    plt.figure(figsize=(12,6))\n",
    "    plt.plot(filtered_df.index, filtered_df['Rate'], label='Previous Data')\n",
    "    plt.plot([pd.Timestamp('2023')], prediction, label=f'Prediction for 2023', color='red', marker='o')\n",
    "    plt.title(f'Predicted Rate for {disease} in {county} for {sex} for 2023')\n",
    "    plt.xlabel('Year')\n",
    "    plt.ylabel('Rate')\n",
    "    plt.legend()\n",
    "    plt.show()\n",
    "    plt.savefig('arima_plot.png', dpi=300, bbox_inches=\"tight\")\n",
    "plt.close()\n",
    "Image('arima_plot.png')"
   ]
  },
  {
   "cell_type": "markdown",
   "id": "6db8f418-9fbf-4b65-83ac-7809f78c6983",
   "metadata": {},
   "source": [
    "### Linear Regression Model"
   ]
  },
  {
   "cell_type": "code",
   "execution_count": 16,
   "id": "48d47225-f438-411e-a863-43eaea2631bb",
   "metadata": {},
   "outputs": [
    {
     "name": "stdout",
     "output_type": "stream",
     "text": [
      "                     Disease   County  Year     Sex  Cases  Population  Rate  \\\n",
      "0               Anaplasmosis  Alameda  2001  Female    0.0      746596   0.0   \n",
      "1               Anaplasmosis  Alameda  2001    Male    0.0      718968   0.0   \n",
      "2               Anaplasmosis  Alameda  2001   Total    0.0     1465564   0.0   \n",
      "3               Anaplasmosis  Alameda  2002  Female    0.0      747987   0.0   \n",
      "4               Anaplasmosis  Alameda  2002    Male    0.0      720481   0.0   \n",
      "...                      ...      ...   ...     ...    ...         ...   ...   \n",
      "199106  Zika Virus Infection     Yuba  2021   Total    0.0       82211   0.0   \n",
      "199107  Zika Virus Infection     Yuba  2022  Female    0.0       39108   0.0   \n",
      "199108  Zika Virus Infection     Yuba  2022    Male    0.0       39558   0.0   \n",
      "199109  Zika Virus Infection     Yuba  2022   Other    0.0        3867   0.0   \n",
      "199110  Zika Virus Infection     Yuba  2022   Total    0.0       82533   0.0   \n",
      "\n",
      "        Lower_95__CI  Upper_95__CI  Disease_Anaplasmosis  ...  County_Trinity  \\\n",
      "0                0.0         0.494                   1.0  ...             0.0   \n",
      "1                0.0         0.513                   1.0  ...             0.0   \n",
      "2                0.0         0.252                   1.0  ...             0.0   \n",
      "3                0.0         0.493                   1.0  ...             0.0   \n",
      "4                0.0         0.512                   1.0  ...             0.0   \n",
      "...              ...           ...                   ...  ...             ...   \n",
      "199106           0.0         4.487                   0.0  ...             0.0   \n",
      "199107           0.0         9.432                   0.0  ...             0.0   \n",
      "199108           0.0         9.325                   0.0  ...             0.0   \n",
      "199109           0.0        95.348                   0.0  ...             0.0   \n",
      "199110           0.0         4.469                   0.0  ...             0.0   \n",
      "\n",
      "        County_Tulare  County_Tuolumne  County_Ventura  County_Yolo  \\\n",
      "0                 0.0              0.0             0.0          0.0   \n",
      "1                 0.0              0.0             0.0          0.0   \n",
      "2                 0.0              0.0             0.0          0.0   \n",
      "3                 0.0              0.0             0.0          0.0   \n",
      "4                 0.0              0.0             0.0          0.0   \n",
      "...               ...              ...             ...          ...   \n",
      "199106            0.0              0.0             0.0          0.0   \n",
      "199107            0.0              0.0             0.0          0.0   \n",
      "199108            0.0              0.0             0.0          0.0   \n",
      "199109            0.0              0.0             0.0          0.0   \n",
      "199110            0.0              0.0             0.0          0.0   \n",
      "\n",
      "        County_Yuba  Sex_Female  Sex_Male  Sex_Other  Sex_Total  \n",
      "0               0.0         1.0       0.0        0.0        0.0  \n",
      "1               0.0         0.0       1.0        0.0        0.0  \n",
      "2               0.0         0.0       0.0        0.0        1.0  \n",
      "3               0.0         1.0       0.0        0.0        0.0  \n",
      "4               0.0         0.0       1.0        0.0        0.0  \n",
      "...             ...         ...       ...        ...        ...  \n",
      "199106          1.0         0.0       0.0        0.0        1.0  \n",
      "199107          1.0         1.0       0.0        0.0        0.0  \n",
      "199108          1.0         0.0       1.0        0.0        0.0  \n",
      "199109          1.0         0.0       0.0        1.0        0.0  \n",
      "199110          1.0         0.0       0.0        0.0        1.0  \n",
      "\n",
      "[199111 rows x 123 columns]\n"
     ]
    }
   ],
   "source": [
    "# One hot encoding\n",
    "encoder = OneHotEncoder()\n",
    "one_hot_encoded = encoder.fit_transform(final_df[['Disease', 'County', 'Sex']]).toarray()\n",
    "one_hot_encoded_df = pd.DataFrame(one_hot_encoded, columns=encoder.get_feature_names_out(['Disease', 'County', 'Sex']))\n",
    "new_df = pd.concat([final_df.reset_index(drop=True), one_hot_encoded_df], axis=1)\n",
    "print(new_df)"
   ]
  },
  {
   "cell_type": "code",
   "execution_count": 17,
   "id": "344db6be-474e-46a1-89d8-cf95922fa210",
   "metadata": {},
   "outputs": [
    {
     "data": {
      "text/html": [
       "<style>#sk-container-id-1 {\n",
       "  /* Definition of color scheme common for light and dark mode */\n",
       "  --sklearn-color-text: black;\n",
       "  --sklearn-color-line: gray;\n",
       "  /* Definition of color scheme for unfitted estimators */\n",
       "  --sklearn-color-unfitted-level-0: #fff5e6;\n",
       "  --sklearn-color-unfitted-level-1: #f6e4d2;\n",
       "  --sklearn-color-unfitted-level-2: #ffe0b3;\n",
       "  --sklearn-color-unfitted-level-3: chocolate;\n",
       "  /* Definition of color scheme for fitted estimators */\n",
       "  --sklearn-color-fitted-level-0: #f0f8ff;\n",
       "  --sklearn-color-fitted-level-1: #d4ebff;\n",
       "  --sklearn-color-fitted-level-2: #b3dbfd;\n",
       "  --sklearn-color-fitted-level-3: cornflowerblue;\n",
       "\n",
       "  /* Specific color for light theme */\n",
       "  --sklearn-color-text-on-default-background: var(--sg-text-color, var(--theme-code-foreground, var(--jp-content-font-color1, black)));\n",
       "  --sklearn-color-background: var(--sg-background-color, var(--theme-background, var(--jp-layout-color0, white)));\n",
       "  --sklearn-color-border-box: var(--sg-text-color, var(--theme-code-foreground, var(--jp-content-font-color1, black)));\n",
       "  --sklearn-color-icon: #696969;\n",
       "\n",
       "  @media (prefers-color-scheme: dark) {\n",
       "    /* Redefinition of color scheme for dark theme */\n",
       "    --sklearn-color-text-on-default-background: var(--sg-text-color, var(--theme-code-foreground, var(--jp-content-font-color1, white)));\n",
       "    --sklearn-color-background: var(--sg-background-color, var(--theme-background, var(--jp-layout-color0, #111)));\n",
       "    --sklearn-color-border-box: var(--sg-text-color, var(--theme-code-foreground, var(--jp-content-font-color1, white)));\n",
       "    --sklearn-color-icon: #878787;\n",
       "  }\n",
       "}\n",
       "\n",
       "#sk-container-id-1 {\n",
       "  color: var(--sklearn-color-text);\n",
       "}\n",
       "\n",
       "#sk-container-id-1 pre {\n",
       "  padding: 0;\n",
       "}\n",
       "\n",
       "#sk-container-id-1 input.sk-hidden--visually {\n",
       "  border: 0;\n",
       "  clip: rect(1px 1px 1px 1px);\n",
       "  clip: rect(1px, 1px, 1px, 1px);\n",
       "  height: 1px;\n",
       "  margin: -1px;\n",
       "  overflow: hidden;\n",
       "  padding: 0;\n",
       "  position: absolute;\n",
       "  width: 1px;\n",
       "}\n",
       "\n",
       "#sk-container-id-1 div.sk-dashed-wrapped {\n",
       "  border: 1px dashed var(--sklearn-color-line);\n",
       "  margin: 0 0.4em 0.5em 0.4em;\n",
       "  box-sizing: border-box;\n",
       "  padding-bottom: 0.4em;\n",
       "  background-color: var(--sklearn-color-background);\n",
       "}\n",
       "\n",
       "#sk-container-id-1 div.sk-container {\n",
       "  /* jupyter's `normalize.less` sets `[hidden] { display: none; }`\n",
       "     but bootstrap.min.css set `[hidden] { display: none !important; }`\n",
       "     so we also need the `!important` here to be able to override the\n",
       "     default hidden behavior on the sphinx rendered scikit-learn.org.\n",
       "     See: https://github.com/scikit-learn/scikit-learn/issues/21755 */\n",
       "  display: inline-block !important;\n",
       "  position: relative;\n",
       "}\n",
       "\n",
       "#sk-container-id-1 div.sk-text-repr-fallback {\n",
       "  display: none;\n",
       "}\n",
       "\n",
       "div.sk-parallel-item,\n",
       "div.sk-serial,\n",
       "div.sk-item {\n",
       "  /* draw centered vertical line to link estimators */\n",
       "  background-image: linear-gradient(var(--sklearn-color-text-on-default-background), var(--sklearn-color-text-on-default-background));\n",
       "  background-size: 2px 100%;\n",
       "  background-repeat: no-repeat;\n",
       "  background-position: center center;\n",
       "}\n",
       "\n",
       "/* Parallel-specific style estimator block */\n",
       "\n",
       "#sk-container-id-1 div.sk-parallel-item::after {\n",
       "  content: \"\";\n",
       "  width: 100%;\n",
       "  border-bottom: 2px solid var(--sklearn-color-text-on-default-background);\n",
       "  flex-grow: 1;\n",
       "}\n",
       "\n",
       "#sk-container-id-1 div.sk-parallel {\n",
       "  display: flex;\n",
       "  align-items: stretch;\n",
       "  justify-content: center;\n",
       "  background-color: var(--sklearn-color-background);\n",
       "  position: relative;\n",
       "}\n",
       "\n",
       "#sk-container-id-1 div.sk-parallel-item {\n",
       "  display: flex;\n",
       "  flex-direction: column;\n",
       "}\n",
       "\n",
       "#sk-container-id-1 div.sk-parallel-item:first-child::after {\n",
       "  align-self: flex-end;\n",
       "  width: 50%;\n",
       "}\n",
       "\n",
       "#sk-container-id-1 div.sk-parallel-item:last-child::after {\n",
       "  align-self: flex-start;\n",
       "  width: 50%;\n",
       "}\n",
       "\n",
       "#sk-container-id-1 div.sk-parallel-item:only-child::after {\n",
       "  width: 0;\n",
       "}\n",
       "\n",
       "/* Serial-specific style estimator block */\n",
       "\n",
       "#sk-container-id-1 div.sk-serial {\n",
       "  display: flex;\n",
       "  flex-direction: column;\n",
       "  align-items: center;\n",
       "  background-color: var(--sklearn-color-background);\n",
       "  padding-right: 1em;\n",
       "  padding-left: 1em;\n",
       "}\n",
       "\n",
       "\n",
       "/* Toggleable style: style used for estimator/Pipeline/ColumnTransformer box that is\n",
       "clickable and can be expanded/collapsed.\n",
       "- Pipeline and ColumnTransformer use this feature and define the default style\n",
       "- Estimators will overwrite some part of the style using the `sk-estimator` class\n",
       "*/\n",
       "\n",
       "/* Pipeline and ColumnTransformer style (default) */\n",
       "\n",
       "#sk-container-id-1 div.sk-toggleable {\n",
       "  /* Default theme specific background. It is overwritten whether we have a\n",
       "  specific estimator or a Pipeline/ColumnTransformer */\n",
       "  background-color: var(--sklearn-color-background);\n",
       "}\n",
       "\n",
       "/* Toggleable label */\n",
       "#sk-container-id-1 label.sk-toggleable__label {\n",
       "  cursor: pointer;\n",
       "  display: block;\n",
       "  width: 100%;\n",
       "  margin-bottom: 0;\n",
       "  padding: 0.5em;\n",
       "  box-sizing: border-box;\n",
       "  text-align: center;\n",
       "}\n",
       "\n",
       "#sk-container-id-1 label.sk-toggleable__label-arrow:before {\n",
       "  /* Arrow on the left of the label */\n",
       "  content: \"▸\";\n",
       "  float: left;\n",
       "  margin-right: 0.25em;\n",
       "  color: var(--sklearn-color-icon);\n",
       "}\n",
       "\n",
       "#sk-container-id-1 label.sk-toggleable__label-arrow:hover:before {\n",
       "  color: var(--sklearn-color-text);\n",
       "}\n",
       "\n",
       "/* Toggleable content - dropdown */\n",
       "\n",
       "#sk-container-id-1 div.sk-toggleable__content {\n",
       "  max-height: 0;\n",
       "  max-width: 0;\n",
       "  overflow: hidden;\n",
       "  text-align: left;\n",
       "  /* unfitted */\n",
       "  background-color: var(--sklearn-color-unfitted-level-0);\n",
       "}\n",
       "\n",
       "#sk-container-id-1 div.sk-toggleable__content.fitted {\n",
       "  /* fitted */\n",
       "  background-color: var(--sklearn-color-fitted-level-0);\n",
       "}\n",
       "\n",
       "#sk-container-id-1 div.sk-toggleable__content pre {\n",
       "  margin: 0.2em;\n",
       "  border-radius: 0.25em;\n",
       "  color: var(--sklearn-color-text);\n",
       "  /* unfitted */\n",
       "  background-color: var(--sklearn-color-unfitted-level-0);\n",
       "}\n",
       "\n",
       "#sk-container-id-1 div.sk-toggleable__content.fitted pre {\n",
       "  /* unfitted */\n",
       "  background-color: var(--sklearn-color-fitted-level-0);\n",
       "}\n",
       "\n",
       "#sk-container-id-1 input.sk-toggleable__control:checked~div.sk-toggleable__content {\n",
       "  /* Expand drop-down */\n",
       "  max-height: 200px;\n",
       "  max-width: 100%;\n",
       "  overflow: auto;\n",
       "}\n",
       "\n",
       "#sk-container-id-1 input.sk-toggleable__control:checked~label.sk-toggleable__label-arrow:before {\n",
       "  content: \"▾\";\n",
       "}\n",
       "\n",
       "/* Pipeline/ColumnTransformer-specific style */\n",
       "\n",
       "#sk-container-id-1 div.sk-label input.sk-toggleable__control:checked~label.sk-toggleable__label {\n",
       "  color: var(--sklearn-color-text);\n",
       "  background-color: var(--sklearn-color-unfitted-level-2);\n",
       "}\n",
       "\n",
       "#sk-container-id-1 div.sk-label.fitted input.sk-toggleable__control:checked~label.sk-toggleable__label {\n",
       "  background-color: var(--sklearn-color-fitted-level-2);\n",
       "}\n",
       "\n",
       "/* Estimator-specific style */\n",
       "\n",
       "/* Colorize estimator box */\n",
       "#sk-container-id-1 div.sk-estimator input.sk-toggleable__control:checked~label.sk-toggleable__label {\n",
       "  /* unfitted */\n",
       "  background-color: var(--sklearn-color-unfitted-level-2);\n",
       "}\n",
       "\n",
       "#sk-container-id-1 div.sk-estimator.fitted input.sk-toggleable__control:checked~label.sk-toggleable__label {\n",
       "  /* fitted */\n",
       "  background-color: var(--sklearn-color-fitted-level-2);\n",
       "}\n",
       "\n",
       "#sk-container-id-1 div.sk-label label.sk-toggleable__label,\n",
       "#sk-container-id-1 div.sk-label label {\n",
       "  /* The background is the default theme color */\n",
       "  color: var(--sklearn-color-text-on-default-background);\n",
       "}\n",
       "\n",
       "/* On hover, darken the color of the background */\n",
       "#sk-container-id-1 div.sk-label:hover label.sk-toggleable__label {\n",
       "  color: var(--sklearn-color-text);\n",
       "  background-color: var(--sklearn-color-unfitted-level-2);\n",
       "}\n",
       "\n",
       "/* Label box, darken color on hover, fitted */\n",
       "#sk-container-id-1 div.sk-label.fitted:hover label.sk-toggleable__label.fitted {\n",
       "  color: var(--sklearn-color-text);\n",
       "  background-color: var(--sklearn-color-fitted-level-2);\n",
       "}\n",
       "\n",
       "/* Estimator label */\n",
       "\n",
       "#sk-container-id-1 div.sk-label label {\n",
       "  font-family: monospace;\n",
       "  font-weight: bold;\n",
       "  display: inline-block;\n",
       "  line-height: 1.2em;\n",
       "}\n",
       "\n",
       "#sk-container-id-1 div.sk-label-container {\n",
       "  text-align: center;\n",
       "}\n",
       "\n",
       "/* Estimator-specific */\n",
       "#sk-container-id-1 div.sk-estimator {\n",
       "  font-family: monospace;\n",
       "  border: 1px dotted var(--sklearn-color-border-box);\n",
       "  border-radius: 0.25em;\n",
       "  box-sizing: border-box;\n",
       "  margin-bottom: 0.5em;\n",
       "  /* unfitted */\n",
       "  background-color: var(--sklearn-color-unfitted-level-0);\n",
       "}\n",
       "\n",
       "#sk-container-id-1 div.sk-estimator.fitted {\n",
       "  /* fitted */\n",
       "  background-color: var(--sklearn-color-fitted-level-0);\n",
       "}\n",
       "\n",
       "/* on hover */\n",
       "#sk-container-id-1 div.sk-estimator:hover {\n",
       "  /* unfitted */\n",
       "  background-color: var(--sklearn-color-unfitted-level-2);\n",
       "}\n",
       "\n",
       "#sk-container-id-1 div.sk-estimator.fitted:hover {\n",
       "  /* fitted */\n",
       "  background-color: var(--sklearn-color-fitted-level-2);\n",
       "}\n",
       "\n",
       "/* Specification for estimator info (e.g. \"i\" and \"?\") */\n",
       "\n",
       "/* Common style for \"i\" and \"?\" */\n",
       "\n",
       ".sk-estimator-doc-link,\n",
       "a:link.sk-estimator-doc-link,\n",
       "a:visited.sk-estimator-doc-link {\n",
       "  float: right;\n",
       "  font-size: smaller;\n",
       "  line-height: 1em;\n",
       "  font-family: monospace;\n",
       "  background-color: var(--sklearn-color-background);\n",
       "  border-radius: 1em;\n",
       "  height: 1em;\n",
       "  width: 1em;\n",
       "  text-decoration: none !important;\n",
       "  margin-left: 1ex;\n",
       "  /* unfitted */\n",
       "  border: var(--sklearn-color-unfitted-level-1) 1pt solid;\n",
       "  color: var(--sklearn-color-unfitted-level-1);\n",
       "}\n",
       "\n",
       ".sk-estimator-doc-link.fitted,\n",
       "a:link.sk-estimator-doc-link.fitted,\n",
       "a:visited.sk-estimator-doc-link.fitted {\n",
       "  /* fitted */\n",
       "  border: var(--sklearn-color-fitted-level-1) 1pt solid;\n",
       "  color: var(--sklearn-color-fitted-level-1);\n",
       "}\n",
       "\n",
       "/* On hover */\n",
       "div.sk-estimator:hover .sk-estimator-doc-link:hover,\n",
       ".sk-estimator-doc-link:hover,\n",
       "div.sk-label-container:hover .sk-estimator-doc-link:hover,\n",
       ".sk-estimator-doc-link:hover {\n",
       "  /* unfitted */\n",
       "  background-color: var(--sklearn-color-unfitted-level-3);\n",
       "  color: var(--sklearn-color-background);\n",
       "  text-decoration: none;\n",
       "}\n",
       "\n",
       "div.sk-estimator.fitted:hover .sk-estimator-doc-link.fitted:hover,\n",
       ".sk-estimator-doc-link.fitted:hover,\n",
       "div.sk-label-container:hover .sk-estimator-doc-link.fitted:hover,\n",
       ".sk-estimator-doc-link.fitted:hover {\n",
       "  /* fitted */\n",
       "  background-color: var(--sklearn-color-fitted-level-3);\n",
       "  color: var(--sklearn-color-background);\n",
       "  text-decoration: none;\n",
       "}\n",
       "\n",
       "/* Span, style for the box shown on hovering the info icon */\n",
       ".sk-estimator-doc-link span {\n",
       "  display: none;\n",
       "  z-index: 9999;\n",
       "  position: relative;\n",
       "  font-weight: normal;\n",
       "  right: .2ex;\n",
       "  padding: .5ex;\n",
       "  margin: .5ex;\n",
       "  width: min-content;\n",
       "  min-width: 20ex;\n",
       "  max-width: 50ex;\n",
       "  color: var(--sklearn-color-text);\n",
       "  box-shadow: 2pt 2pt 4pt #999;\n",
       "  /* unfitted */\n",
       "  background: var(--sklearn-color-unfitted-level-0);\n",
       "  border: .5pt solid var(--sklearn-color-unfitted-level-3);\n",
       "}\n",
       "\n",
       ".sk-estimator-doc-link.fitted span {\n",
       "  /* fitted */\n",
       "  background: var(--sklearn-color-fitted-level-0);\n",
       "  border: var(--sklearn-color-fitted-level-3);\n",
       "}\n",
       "\n",
       ".sk-estimator-doc-link:hover span {\n",
       "  display: block;\n",
       "}\n",
       "\n",
       "/* \"?\"-specific style due to the `<a>` HTML tag */\n",
       "\n",
       "#sk-container-id-1 a.estimator_doc_link {\n",
       "  float: right;\n",
       "  font-size: 1rem;\n",
       "  line-height: 1em;\n",
       "  font-family: monospace;\n",
       "  background-color: var(--sklearn-color-background);\n",
       "  border-radius: 1rem;\n",
       "  height: 1rem;\n",
       "  width: 1rem;\n",
       "  text-decoration: none;\n",
       "  /* unfitted */\n",
       "  color: var(--sklearn-color-unfitted-level-1);\n",
       "  border: var(--sklearn-color-unfitted-level-1) 1pt solid;\n",
       "}\n",
       "\n",
       "#sk-container-id-1 a.estimator_doc_link.fitted {\n",
       "  /* fitted */\n",
       "  border: var(--sklearn-color-fitted-level-1) 1pt solid;\n",
       "  color: var(--sklearn-color-fitted-level-1);\n",
       "}\n",
       "\n",
       "/* On hover */\n",
       "#sk-container-id-1 a.estimator_doc_link:hover {\n",
       "  /* unfitted */\n",
       "  background-color: var(--sklearn-color-unfitted-level-3);\n",
       "  color: var(--sklearn-color-background);\n",
       "  text-decoration: none;\n",
       "}\n",
       "\n",
       "#sk-container-id-1 a.estimator_doc_link.fitted:hover {\n",
       "  /* fitted */\n",
       "  background-color: var(--sklearn-color-fitted-level-3);\n",
       "}\n",
       "</style><div id=\"sk-container-id-1\" class=\"sk-top-container\"><div class=\"sk-text-repr-fallback\"><pre>LinearRegression()</pre><b>In a Jupyter environment, please rerun this cell to show the HTML representation or trust the notebook. <br />On GitHub, the HTML representation is unable to render, please try loading this page with nbviewer.org.</b></div><div class=\"sk-container\" hidden><div class=\"sk-item\"><div class=\"sk-estimator fitted sk-toggleable\"><input class=\"sk-toggleable__control sk-hidden--visually\" id=\"sk-estimator-id-1\" type=\"checkbox\" checked><label for=\"sk-estimator-id-1\" class=\"sk-toggleable__label fitted sk-toggleable__label-arrow fitted\">&nbsp;&nbsp;LinearRegression<a class=\"sk-estimator-doc-link fitted\" rel=\"noreferrer\" target=\"_blank\" href=\"https://scikit-learn.org/1.4/modules/generated/sklearn.linear_model.LinearRegression.html\">?<span>Documentation for LinearRegression</span></a><span class=\"sk-estimator-doc-link fitted\">i<span>Fitted</span></span></label><div class=\"sk-toggleable__content fitted\"><pre>LinearRegression()</pre></div> </div></div></div></div>"
      ],
      "text/plain": [
       "LinearRegression()"
      ]
     },
     "execution_count": 17,
     "metadata": {},
     "output_type": "execute_result"
    }
   ],
   "source": [
    "# Create and train Linear Regression model\n",
    "X = new_df[[col for col in new_df.columns if col.startswith(\"Disease_\") or col.startswith(\"County_\") or col.startswith(\"Sex_\")]]\n",
    "y = new_df['Rate']\n",
    "X_train, X_test, y_train, y_test  = train_test_split(X, y, test_size=0.2, random_state=42)\n",
    "type(X_test)\n",
    "model = LinearRegression()\n",
    "model.fit(X_train, y_train)"
   ]
  },
  {
   "cell_type": "code",
   "execution_count": 18,
   "id": "2584c6e2-ad3f-4f83-b153-dc83c3ec70e4",
   "metadata": {},
   "outputs": [
    {
     "name": "stdout",
     "output_type": "stream",
     "text": [
      "[-3.15527344 34.54101562 11.97070312 -0.8125     -1.75488281 46.56933594]\n"
     ]
    }
   ],
   "source": [
    "# Create a test case to predict rate given the Disease, County, and Sex\n",
    "test_case = [\n",
    "    ('Anaplasmosis', 'Alameda', 'Female'),\n",
    "    ('Shigellosis', 'Mariposa', 'Male'),\n",
    "    ('Cysticercosis or Taeniasis', 'Inyo', 'Other'),\n",
    "    ('Yersiniosis', 'San Mateo', 'Total'),\n",
    "    ('Zika Virus Infection', 'San Diego', 'Female'),\n",
    "    ('Salmonellosis', 'Riverside', 'Total')\n",
    "]\n",
    "test_case_df = pd.DataFrame(test_case, columns=['Disease', 'County', 'Sex'])\n",
    "test_case_encoded = pd.get_dummies(test_case_df, columns=['Disease', 'County', 'Sex'])\n",
    "test_case_df_final = test_case_encoded.reindex(columns=X_test.columns, fill_value=0)\n",
    "rate_prediction = model.predict(test_case_df_final)\n",
    "print(rate_prediction)"
   ]
  },
  {
   "cell_type": "code",
   "execution_count": 19,
   "id": "7679ff8c-aa4a-40d7-8f22-137788a05268",
   "metadata": {},
   "outputs": [
    {
     "name": "stdout",
     "output_type": "stream",
     "text": [
      "Mean Squared Error: 150.10\n",
      "R2 Score: -1.58\n",
      "Model Coefficients: [-1.23345457e+10 -1.23345457e+10 -1.23345457e+10 -1.23345457e+10\n",
      " -1.23345457e+10 -1.23345457e+10 -1.23345457e+10 -1.23345457e+10\n",
      " -1.23345457e+10 -1.23345457e+10 -1.23345457e+10 -1.23345457e+10\n",
      " -1.23345457e+10 -1.23345457e+10 -1.23345457e+10 -1.23345457e+10\n",
      " -1.23345457e+10 -1.23345457e+10 -1.23345457e+10 -1.23345457e+10\n",
      " -1.23345457e+10 -1.23345457e+10 -1.23345457e+10 -1.23345457e+10\n",
      " -1.23345457e+10 -1.23345457e+10 -1.23345457e+10 -1.23345457e+10\n",
      " -1.23345457e+10 -1.23345457e+10 -1.23345457e+10 -1.23345457e+10\n",
      " -1.23345457e+10 -1.23345457e+10 -1.23345457e+10 -1.23345457e+10\n",
      " -1.23345457e+10 -1.23345456e+10 -1.23345457e+10 -1.23345457e+10\n",
      " -1.23345457e+10 -1.23345456e+10 -1.23345457e+10 -1.23345457e+10\n",
      " -1.23345457e+10 -1.23345457e+10 -1.23345457e+10 -1.23345457e+10\n",
      " -1.23345457e+10 -1.23345457e+10 -1.23345457e+10 -1.23345457e+10\n",
      " -3.08576397e+12 -3.08576397e+12 -3.08576397e+12 -3.08576397e+12\n",
      " -3.08576397e+12 -3.08576397e+12 -3.08576397e+12 -3.08576397e+12\n",
      " -3.08576397e+12 -3.08576397e+12 -3.08576397e+12 -3.08576397e+12\n",
      " -3.08576397e+12 -3.08576397e+12 -3.08576397e+12 -3.08576397e+12\n",
      " -3.08576397e+12 -3.08576397e+12 -3.08576397e+12 -3.08576397e+12\n",
      " -3.08576397e+12 -3.08576397e+12 -3.08576397e+12 -3.08576397e+12\n",
      " -3.08576397e+12 -3.08576397e+12 -3.08576397e+12 -3.08576397e+12\n",
      " -3.08576397e+12 -3.08576397e+12 -3.08576397e+12 -3.08576397e+12\n",
      " -3.08576397e+12 -3.08576397e+12 -3.08576397e+12 -3.08576397e+12\n",
      " -3.08576397e+12 -3.08576397e+12 -3.08576397e+12 -3.08576397e+12\n",
      " -3.08576397e+12 -3.08576397e+12 -3.08576397e+12 -3.08576397e+12\n",
      " -3.08576397e+12 -3.08576397e+12 -3.08576397e+12 -3.08576397e+12\n",
      " -3.08576397e+12 -3.08576397e+12 -3.08576397e+12 -3.08576397e+12\n",
      " -3.08576397e+12 -3.08576397e+12 -3.08576397e+12 -3.08576397e+12\n",
      " -3.08576397e+12 -3.08576397e+12 -3.09969291e+12 -3.09969291e+12\n",
      " -3.09969291e+12 -3.09969291e+12]\n",
      "Model Intercept: 6197791429129.918\n"
     ]
    }
   ],
   "source": [
    "# Evaluate the Linear Regression model with these performance metrics\n",
    "y_pred = model.predict(X_test)\n",
    "print(f\"Mean Squared Error: {mean_squared_error(y_test, y_pred):.2f}\")\n",
    "print(f\"R2 Score: {r2_score(y_test, y_pred):.2f}\")\n",
    "print(\"Model Coefficients:\", model.coef_)\n",
    "print(\"Model Intercept:\", model.intercept_)"
   ]
  },
  {
   "cell_type": "code",
   "execution_count": 20,
   "id": "3a7267b1-247b-4220-8881-166bb803387a",
   "metadata": {},
   "outputs": [
    {
     "name": "stdout",
     "output_type": "stream",
     "text": [
      "[0.01077273 0.         0.         0.73059091 0.55728571 9.08590909]\n"
     ]
    }
   ],
   "source": [
    "# Calculate the mean rates for every unique Disease, County, and Sex combination\n",
    "mean_rates = final_df.groupby(['Disease', 'County', 'Sex'])['Rate'].mean().reset_index()\n",
    "test_case_df = pd.DataFrame(test_case, columns=['Disease', 'County', 'Sex'])\n",
    "df_merged = pd.merge(test_case_df, mean_rates, on=['Disease', 'County', 'Sex'], how='left')\n",
    "arr = df_merged['Rate'].to_numpy()\n",
    "print(arr)"
   ]
  },
  {
   "cell_type": "code",
   "execution_count": 21,
   "id": "f9c276ed-ab85-4089-a7d2-ccfa162bf783",
   "metadata": {},
   "outputs": [
    {
     "name": "stdout",
     "output_type": "stream",
     "text": [
      "Baseline Mean Squared Error: 59.58\n",
      "Baseline R2 Score: -0.02\n"
     ]
    }
   ],
   "source": [
    "# Evaluate baseline model and use to compare against Linear Regression model\n",
    "mean_rates_training = y_train.mean()\n",
    "baseline_y_pred = [mean_rates_training] * len(y_test)\n",
    "\n",
    "print(f\"Baseline Mean Squared Error: {mean_squared_error(y_test, baseline_y_pred):.2f}\")\n",
    "print(f\"Baseline R2 Score: {r2_score(y_test, baseline_y_pred):.2f}\")"
   ]
  },
  {
   "cell_type": "markdown",
   "id": "7bfdf5e7-002a-4035-95cd-14977f34de7e",
   "metadata": {},
   "source": [
    "# Data Visualization"
   ]
  },
  {
   "cell_type": "code",
   "execution_count": 22,
   "id": "3cd8ca42-8cac-48c0-8097-f5986d6818bb",
   "metadata": {},
   "outputs": [
    {
     "data": {
      "image/png": "[encoded data removed]",
      "text/plain": [
       "<Figure size 640x480 with 1 Axes>"
      ]
     },
     "metadata": {},
     "output_type": "display_data"
    }
   ],
   "source": [
    "#Plot rate change for a particular disease from 2001 to 2022\n",
    "random_disease = np.random.choice(final_df['Disease'].unique())\n",
    "df2 = final_df[(final_df['Sex'] == 'Total') & (final_df['Disease'] == random_disease)]\n",
    "plt.scatter(df2['Year'], df2['Rate'], label='Rate Change')\n",
    "plt.xlabel('Year')\n",
    "plt.ylabel('Rate (cases per 100,000)')\n",
    "plt.title(f'Rate Change From 2001 to 2022 for {random_disease.capitalize()}')\n",
    "year = df2['Year']\n",
    "rate = df2['Rate']\n",
    "linear_fit = np.polyfit(year, rate, 1)\n",
    "trendline = np.poly1d(linear_fit)\n",
    "plt.plot(df2['Year'], trendline(df2['Year']), label='Trendline', color='red')\n",
    "plt.show()"
   ]
  },
  {
   "cell_type": "code",
   "execution_count": 23,
   "id": "213afb98-34fc-42b1-bd8d-9c779cfe0f15",
   "metadata": {},
   "outputs": [
    {
     "data": {
      "image/png": "[encoded data removed]",
      "text/plain": [
       "<Figure size 640x480 with 1 Axes>"
      ]
     },
     "metadata": {},
     "output_type": "display_data"
    }
   ],
   "source": [
    "#Plot rate change for a particular disease for a specific county from 2001 to 2022\n",
    "random_disease = np.random.choice(final_df['Disease'].unique())\n",
    "random_county = np.random.choice(final_df['County'].unique())\n",
    "df2 = final_df[(final_df['Sex'] == 'Total') & (final_df['Disease'] == random_disease) & (final_df['County'] == random_county)]\n",
    "plt.scatter(df2['Year'], df2['Rate'], label='Rate Change')\n",
    "plt.xlabel('Year')\n",
    "plt.ylabel('Rate (cases per 100,000)')\n",
    "plt.title(f'Rate Change From 2001 to 2022 for {random_disease.capitalize()} within {random_county.capitalize()} County')\n",
    "year = df2['Year']\n",
    "rate = df2['Rate']\n",
    "linear_fit = np.polyfit(year, rate, 1)\n",
    "trendline = np.poly1d(linear_fit)\n",
    "plt.plot(df2['Year'], trendline(df2['Year']), label='Trendline', color='red')\n",
    "plt.show()"
   ]
  },
  {
   "cell_type": "markdown",
   "id": "b26410e7-48f9-4dcc-a817-6ab359eb8d33",
   "metadata": {},
   "source": [
    "## Database"
   ]
  },
  {
   "cell_type": "code",
   "execution_count": 24,
   "id": "6311df27-8d5b-43ca-a50a-c6c75b9412d8",
   "metadata": {},
   "outputs": [
    {
     "data": {
      "text/plain": [
       "<sqlite3.Cursor at 0x7f9d855e3bc0>"
      ]
     },
     "execution_count": 24,
     "metadata": {},
     "output_type": "execute_result"
    }
   ],
   "source": [
    "conn = sqlite3.connect('california_diseases')\n",
    "cursor = conn.cursor()\n",
    "\n",
    "cursor.execute('DROP TABLE IF EXISTS Disease')\n",
    "cursor.execute('DROP TABLE IF EXISTS CountyCases')\n",
    "\n",
    "# Disease table\n",
    "cursor.execute('''\n",
    "    CREATE TABLE Disease (\n",
    "        name VARCHAR(25) PRIMARY KEY,\n",
    "        link MEDIUMTEXT\n",
    "    )\n",
    "''')\n",
    "\n",
    "# CountyCases table\n",
    "cursor.execute('''\n",
    "    CREATE TABLE CountyCases (\n",
    "        id INTEGER PRIMARY KEY AUTOINCREMENT,\n",
    "        disease VARCHAR(25),\n",
    "        county VARCHAR(25) NOT NULL,\n",
    "        year INTEGER NOT NULL,\n",
    "        sex VARCHAR(6) NOT NULL,\n",
    "        population INTEGER NOT NULL,\n",
    "        cases TEXT,\n",
    "        rate TEXT,\n",
    "        lower_95_ci TEXT,\n",
    "        upper_95_ci TEXT,\n",
    "        FOREIGN KEY (disease) REFERENCES Disease (name)\n",
    "    )\n",
    "''')"
   ]
  },
  {
   "cell_type": "markdown",
   "id": "c481a5ed-b9f6-42eb-9504-f94f09f5d881",
   "metadata": {},
   "source": [
    "### Describe Tables"
   ]
  },
  {
   "cell_type": "code",
   "execution_count": 25,
   "id": "3a0f2b19-87e8-4e30-852f-ee226ac2bf09",
   "metadata": {},
   "outputs": [
    {
     "data": {
      "text/plain": [
       "[(0, 'id', 'INTEGER', 0, None, 1),\n",
       " (1, 'disease', 'VARCHAR(25)', 0, None, 0),\n",
       " (2, 'county', 'VARCHAR(25)', 1, None, 0),\n",
       " (3, 'year', 'INTEGER', 1, None, 0),\n",
       " (4, 'sex', 'VARCHAR(6)', 1, None, 0),\n",
       " (5, 'population', 'INTEGER', 1, None, 0),\n",
       " (6, 'cases', 'TEXT', 0, None, 0),\n",
       " (7, 'rate', 'TEXT', 0, None, 0),\n",
       " (8, 'lower_95_ci', 'TEXT', 0, None, 0),\n",
       " (9, 'upper_95_ci', 'TEXT', 0, None, 0)]"
      ]
     },
     "execution_count": 25,
     "metadata": {},
     "output_type": "execute_result"
    }
   ],
   "source": [
    "# Describe Disease table\n",
    "cursor.execute(\"PRAGMA table_info(Disease);\")\n",
    "cursor.fetchall()\n",
    "\n",
    "# Describe CountyCases table\n",
    "cursor.execute(\"PRAGMA table_info(CountyCases);\")\n",
    "cursor.fetchall()"
   ]
  },
  {
   "cell_type": "markdown",
   "id": "b48126a1-2102-4683-910a-321743e00121",
   "metadata": {},
   "source": [
    "### Insert Into Disease and County Tables"
   ]
  },
  {
   "cell_type": "code",
   "execution_count": 26,
   "id": "d820b9dc-e6fa-46a0-8b65-7fed9e52fb03",
   "metadata": {},
   "outputs": [
    {
     "name": "stdout",
     "output_type": "stream",
     "text": [
      "('Anaplasmosis', None)\n",
      "('Anthrax', None)\n",
      "('Babesiosis', None)\n",
      "('Botulism, Foodborne', None)\n",
      "('Botulism, Other/Unknown', None)\n",
      "('Botulism, Wound', None)\n",
      "('Brucellosis', None)\n",
      "('Campylobacteriosis', None)\n",
      "('Chikungunya Virus Infection', None)\n",
      "('Cholera', None)\n"
     ]
    }
   ],
   "source": [
    "unique_diseases = final_df['Disease'].unique()\n",
    "# Insert disease into Disease table\n",
    "cursor.executemany('INSERT OR IGNORE INTO Disease (name) VALUES (?)', [(disease,) for disease in unique_diseases])\n",
    "conn.commit()\n",
    "\n",
    "county_cases = []\n",
    "# Append data from each row and col into county_cases\n",
    "for _, row in final_df.iterrows():\n",
    "    county_cases.append((\n",
    "        row['Disease'], row['County'], row['Year'], row['Sex'], row['Population'],\n",
    "        row['Cases'], row['Rate'], row['Lower_95__CI'], row['Upper_95__CI']\n",
    "    ))\n",
    "\n",
    "# Insert multiple records into CountyCases table\n",
    "cursor.executemany('''\n",
    "    INSERT INTO CountyCases (disease, county, year, sex, population, cases, rate, lower_95_ci, upper_95_ci)\n",
    "    VALUES (?, ?, ?, ?, ?, ?, ?, ?, ?)\n",
    "''', county_cases)\n",
    "conn.commit()\n",
    "\n",
    "# Show first 10 records of Disease table\n",
    "cursor.execute(\"SELECT * FROM Disease LIMIT 10\")\n",
    "rows = cursor.fetchall()\n",
    "for row in rows:\n",
    "    print(row)"
   ]
  },
  {
   "cell_type": "markdown",
   "id": "870faf84-359b-4aa1-bc23-210e689ac4c3",
   "metadata": {},
   "source": [
    "### Ensure CountCases Table Insertions Are Correct"
   ]
  },
  {
   "cell_type": "code",
   "execution_count": 27,
   "id": "edf9eb32-ca42-481e-8eaf-1f4603818e18",
   "metadata": {},
   "outputs": [
    {
     "name": "stdout",
     "output_type": "stream",
     "text": [
      "(55311, 'Cyclosporiasis', 'Tulare', 2021, 'Male', 241559, '1.0', '0.414', '0.01', '2.307')\n",
      "(170519, 'Tularemia', 'Modoc', 2006, 'Male', 4876, '0.0', '0.0', '0.0', '75.618')\n",
      "(48783, 'Creutzfeldt-Jakob Disease and other Transmissible Spongiform Encephalopathies', 'Stanislaus', 2009, 'Total', 512052, '0.0', '0.0', '0.0', '0.72')\n",
      "(175144, 'Typhoid Fever, case', 'Placer', 2019, 'Female', 200293, '0.0', '0.0', '0.0', '1.842')\n",
      "(130584, 'Q Fever', 'Mendocino', 2020, 'Total', 91074, '1.0', '1.098', '0.028', '6.118')\n",
      "(2218, 'Anaplasmosis', 'Plumas', 2003, 'Female', 10363, '0.0', '0.0', '0.0', '35.59')\n",
      "(159753, 'Shigellosis', 'Siskiyou', 2022, 'Female', 21712, '0.0', '0.0', '0.0', '16.989')\n",
      "(14342, 'Botulism, Foodborne', 'Modoc', 2019, 'Female', 4683, '0.0', '0.0', '0.0', '78.741')\n",
      "(185983, 'Viral Hemorrhagic Fevers (including Crimean-Congo, Ebola, Lassa, and Marburg viruses)', 'El Dorado', 2018, 'Female', 92911, '0.0', '0.0', '0.0', '3.97')\n",
      "(120942, 'Plague, human', 'Calaveras', 2018, 'Other', 793, '0.0', '0.0', '0.0', '464.1')\n"
     ]
    }
   ],
   "source": [
    "# Print 10 random records of CountyCases table\n",
    "cursor.execute('''SELECT * FROM CountyCases ORDER BY RANDOM() LIMIT 10''')\n",
    "rows = cursor.fetchall()\n",
    "for row in rows:\n",
    "    print(row)"
   ]
  },
  {
   "cell_type": "code",
   "execution_count": 28,
   "id": "0fd61aa8-644c-4d0e-8c69-e465c834da40",
   "metadata": {},
   "outputs": [
    {
     "name": "stdout",
     "output_type": "stream",
     "text": [
      "(159379, 'Shigellosis', 'Santa Barbara', 2018, 'Female', 222508, '2.0', '0.899', '0.109', '3.247')\n",
      "(45962, 'Coccidioidomycosis', 'Ventura', 2005, 'Total', 796867, '26.0', '3.263', '2.131', '4.781')\n",
      "(59546, 'Cysticercosis or Taeniasis', 'Yolo', 2017, 'Female', 111759, '0.0', '0.0', '0.0', '3.301')\n",
      "(125054, 'Psittacosis', 'Butte', 2018, 'Other', 8187, '0.0', '0.0', '0.0', '45.048')\n",
      "(16632, 'Botulism, Foodborne', 'Yolo', 2012, 'Female', 105636, '0.0', '0.0', '0.0', '3.492')\n",
      "(133022, 'Q Fever', 'Yuba', 2003, 'Female', 31768, '0.0', '0.0', '0.0', '11.611')\n",
      "(184243, 'Vibrio Infection (non-Cholera)', 'Santa Clara', 2018, 'Female', 967826, '6.0', '0.62', '0.228', '1.349')\n",
      "(39178, 'Ciguatera Fish Poisoning', 'Imperial', 2022, 'Male', 97973, '0.0', '0.0', '0.0', '3.765')\n",
      "(159179, 'Shigellosis', 'San Joaquin', 2021, 'Total', 782894, '25.0', '3.193', '2.067', '4.714')\n",
      "(100371, 'Listeriosis', 'Butte', 2015, 'Other', 5336, '0.0', '0.0', '0.0', '69.108')\n"
     ]
    }
   ],
   "source": [
    "# Print 10 random cases where cases > 0\n",
    "cursor.execute('''SELECT * FROM CountyCases WHERE cases > 0 ORDER BY RANDOM() LIMIT 10''')\n",
    "rows = cursor.fetchall()\n",
    "for row in rows:\n",
    "    print(row)"
   ]
  },
  {
   "cell_type": "markdown",
   "id": "4e95bfc7-f3d5-497d-83ca-2f78921e13c7",
   "metadata": {},
   "source": [
    "### Questions"
   ]
  },
  {
   "cell_type": "markdown",
   "id": "8487ebf6-ddcf-4dc7-a078-43f326cd7122",
   "metadata": {},
   "source": [
    "#### Which 10 diseases have the highest total case count? "
   ]
  },
  {
   "cell_type": "code",
   "execution_count": 29,
   "id": "3bdb7179-cad0-4bf3-a574-af1e7963a950",
   "metadata": {},
   "outputs": [
    {
     "name": "stdout",
     "output_type": "stream",
     "text": [
      "Campylobacteriosis: 302710 cases\n",
      "Salmonellosis: 210183 cases\n",
      "Coccidioidomycosis: 192736 cases\n",
      "Giardiasis: 93998 cases\n",
      "Shigellosis: 88757 cases\n",
      "Shiga toxin-producing E. coli (STEC) without HUS: 36188 cases\n",
      "Cryptosporidiosis: 17858 cases\n",
      "Legionellosis: 12370 cases\n",
      "Vibrio Infection (non-Cholera): 7693 cases\n",
      "Yersiniosis: 6995 cases\n"
     ]
    }
   ],
   "source": [
    "# Gets the cumulative case count for each disease, sorting by descending case count\n",
    "cursor.execute('''\n",
    "    SELECT disease, SUM(CAST(cases as INT)) AS sum_case \n",
    "    FROM CountyCases\n",
    "    WHERE year BETWEEN 2001 AND 2022\n",
    "    GROUP BY disease\n",
    "    ORDER BY sum_case DESC\n",
    "    LIMIT 10\n",
    "''')\n",
    "\n",
    "results = cursor.fetchall()\n",
    "for row in results:\n",
    "    disease, sum_case = row\n",
    "    print(f\"{disease}: {sum_case} cases\")"
   ]
  },
  {
   "cell_type": "markdown",
   "id": "faf7dead-e095-4122-a712-b2b51f2279d0",
   "metadata": {},
   "source": [
    "#### What 10 counties have the highest total number of disease cases?"
   ]
  },
  {
   "cell_type": "code",
   "execution_count": 30,
   "id": "0d5be4fd-39d1-47fd-9f7f-e6fda74a5405",
   "metadata": {},
   "outputs": [
    {
     "name": "stdout",
     "output_type": "stream",
     "text": [
      "Los Angeles County: 213905 cases\n",
      "Kern County: 95718 cases\n",
      "San Diego County: 91324 cases\n",
      "Orange County: 56383 cases\n",
      "Santa Clara County: 51808 cases\n",
      "Alameda County: 45463 cases\n",
      "San Francisco County: 43160 cases\n",
      "Fresno County: 42977 cases\n",
      "Riverside County: 33505 cases\n",
      "San Bernardino County: 28944 cases\n"
     ]
    }
   ],
   "source": [
    "# gets the cumulative case count for each county, sorting by descending case count\n",
    "cursor.execute('''\n",
    "    SELECT county, SUM(CAST(cases as INT)) AS sum_case\n",
    "    FROM CountyCases\n",
    "    WHERE year BETWEEN 2001 AND 2022\n",
    "    GROUP BY county\n",
    "    ORDER BY sum_case DESC \n",
    "    LIMIT 10\n",
    "''')\n",
    "\n",
    "results = cursor.fetchall()\n",
    "for row in results:\n",
    "    county, sum_county = row\n",
    "    print(f\"{county} County: {sum_county} cases\")"
   ]
  },
  {
   "cell_type": "markdown",
   "id": "6f84f954-ac70-4f7c-9b9f-d56b710ee097",
   "metadata": {},
   "source": [
    "#### What 10 years have the highest total number of disease cases?"
   ]
  },
  {
   "cell_type": "code",
   "execution_count": 31,
   "id": "8f3a8ce6-3f1b-45d0-bf3e-a407d971e5e7",
   "metadata": {},
   "outputs": [
    {
     "name": "stdout",
     "output_type": "stream",
     "text": [
      "2019: 73744 cases\n",
      "2018: 68917 cases\n",
      "2022: 68330 cases\n",
      "2017: 64006 cases\n",
      "2021: 58962 cases\n",
      "2016: 54247 cases\n",
      "2015: 48637 cases\n",
      "2020: 47997 cases\n",
      "2012: 43364 cases\n",
      "2014: 42482 cases\n"
     ]
    }
   ],
   "source": [
    "# gets the cumulative case count for each county, sorting by descending case count\n",
    "cursor.execute('''\n",
    "    SELECT year, SUM(CAST(cases as INT)) AS sum_case\n",
    "    FROM CountyCases\n",
    "    WHERE year BETWEEN 2001 AND 2022\n",
    "    GROUP BY year\n",
    "    ORDER BY sum_case DESC \n",
    "    LIMIT 10\n",
    "''')\n",
    "\n",
    "results = cursor.fetchall()\n",
    "for row in results:\n",
    "    year, sum_year = row\n",
    "    print(f\"{year}: {sum_year} cases\")"
   ]
  },
  {
   "cell_type": "markdown",
   "id": "d869e902-9d15-418a-801e-510d432b504f",
   "metadata": {},
   "source": [
    "#### What are the 10 most common diseases for females? Males? Others?"
   ]
  },
  {
   "cell_type": "code",
   "execution_count": 32,
   "id": "c4901bfa-639b-4cb7-bba4-334f46ce7f09",
   "metadata": {},
   "outputs": [
    {
     "name": "stdout",
     "output_type": "stream",
     "text": [
      "Female: Campylobacteriosis, 68508 cases\n",
      "Female: Salmonellosis, 54065 cases\n",
      "Female: Coccidioidomycosis, 36273 cases\n",
      "Female: Shigellosis, 17863 cases\n",
      "Female: Giardiasis, 17001 cases\n",
      "Female: Shiga toxin-producing E. coli (STEC) without HUS, 9369 cases\n",
      "Female: Cryptosporidiosis, 3668 cases\n",
      "Female: Legionellosis, 2261 cases\n",
      "Female: Yersiniosis, 1724 cases\n",
      "Female: Vibrio Infection (non-Cholera), 1371 cases\n",
      "\n",
      "Male: Campylobacteriosis, 80748 cases\n",
      "Male: Coccidioidomycosis, 59729 cases\n",
      "Male: Salmonellosis, 49518 cases\n",
      "Male: Giardiasis, 29005 cases\n",
      "Male: Shigellosis, 26087 cases\n",
      "Male: Shiga toxin-producing E. coli (STEC) without HUS, 8414 cases\n",
      "Male: Cryptosporidiosis, 5078 cases\n",
      "Male: Legionellosis, 3873 cases\n",
      "Male: Vibrio Infection (non-Cholera), 2426 cases\n",
      "Male: Yersiniosis, 1711 cases\n",
      "\n",
      "Other: Campylobacteriosis, 39 cases\n",
      "Other: Salmonellosis, 28 cases\n",
      "Other: Giardiasis, 23 cases\n",
      "Other: Shiga toxin-producing E. coli (STEC) without HUS, 11 cases\n",
      "Other: Coccidioidomycosis, 10 cases\n",
      "Other: Shigellosis, 3 cases\n",
      "Other: Dengue Virus Infection, 3 cases\n",
      "Other: Hemolytic Uremic Syndrome, 2 cases\n",
      "Other: Typhoid Fever, case, 1 cases\n",
      "Other: Shiga toxin-producing E. coli (STEC) with HUS, 1 cases\n",
      "\n"
     ]
    }
   ],
   "source": [
    "# Gets the cumulative case count for each sex, sorting by descending case count\n",
    "queries = [\n",
    "    'SELECT sex, disease, SUM(CAST(cases AS INT)) AS max_cases FROM CountyCases WHERE year BETWEEN 2001 AND 2022 AND sex = \"Female\" GROUP BY disease ORDER BY max_cases DESC LIMIT 10',\n",
    "    'SELECT sex, disease, SUM(CAST(cases AS INT)) AS max_cases FROM CountyCases WHERE year BETWEEN 2001 AND 2022 AND sex = \"Male\" GROUP BY disease ORDER BY max_cases DESC LIMIT 10',\n",
    "    'SELECT sex, disease, SUM(CAST(cases AS INT)) AS max_cases FROM CountyCases WHERE year BETWEEN 2001 AND 2022 AND sex = \"Other\" GROUP BY disease ORDER BY max_cases DESC LIMIT 10',\n",
    "]\n",
    "\n",
    "for query in queries:\n",
    "    cursor.execute(query)\n",
    "    results = cursor.fetchall()\n",
    "    for row in results:\n",
    "        sex, disease, max_cases = row\n",
    "        print(f\"{sex}: {disease}, {max_cases} cases\")\n",
    "    print()"
   ]
  },
  {
   "cell_type": "markdown",
   "id": "f8f38c60-346e-4e51-91c8-95abb2135c0e",
   "metadata": {},
   "source": [
    "#### Which 5 counties have the highest disease rate for the top 5 common diseases in 2022?"
   ]
  },
  {
   "cell_type": "code",
   "execution_count": 33,
   "id": "5e3ebc22-9daa-4dec-891e-93d89df681b2",
   "metadata": {},
   "outputs": [
    {
     "name": "stdout",
     "output_type": "stream",
     "text": [
      "Campylobacteriosis: Imperial County, 64.303\n",
      "Campylobacteriosis: Mendocino County, 58.982\n",
      "Campylobacteriosis: Lake County, 49.864\n",
      "Campylobacteriosis: San Francisco County, 45.542\n",
      "Campylobacteriosis: Nevada County, 42.494\n",
      "\n",
      "Salmonellosis: Imperial County, 39.807\n",
      "Salmonellosis: Placer County, 25.128\n",
      "Salmonellosis: San Benito County, 22.795\n",
      "Salmonellosis: Tehama County, 21.620\n",
      "Salmonellosis: Marin County, 21.558\n",
      "\n",
      "Coccidioidomycosis: Kern County, 263.240\n",
      "Coccidioidomycosis: Kings County, 136.470\n",
      "Coccidioidomycosis: Tulare County, 70.246\n",
      "Coccidioidomycosis: San Luis Obispo County, 64.808\n",
      "Coccidioidomycosis: Fresno County, 58.049\n",
      "\n",
      "Giardiasis: San Francisco County, 35.202\n",
      "Giardiasis: Modoc County, 21.336\n",
      "Giardiasis: Marin County, 17.981\n",
      "Giardiasis: Mendocino County, 14.520\n",
      "Giardiasis: Placer County, 13.151\n",
      "\n",
      "Shigellosis: San Francisco County, 64.683\n",
      "Shigellosis: Humboldt County, 34.157\n",
      "Shigellosis: San Diego County, 18.258\n",
      "Shigellosis: Imperial County, 17.897\n",
      "Shigellosis: Los Angeles County, 15.725\n",
      "\n"
     ]
    }
   ],
   "source": [
    "# CommonDisease: gets 5 diseases with the highest total cases and orders by descending\n",
    "# TopCounties: ranks counties by descending rate for each disease\n",
    "    # PARTITION BY: divides the rows into partitions by disease name, orders by descending rate\n",
    "    # ROW_NUMBER(): assigns each row in each partition a sequential int num\n",
    "# Gets the top 5 counties for each disease that have the highest rates\n",
    "cursor.execute('''\n",
    "WITH CommonDiseases AS (\n",
    "    SELECT disease, SUM(CAST(cases AS INT)) AS sum_case\n",
    "    FROM CountyCases\n",
    "    WHERE year BETWEEN 2001 AND 2022\n",
    "    GROUP BY disease\n",
    "    ORDER BY sum_case DESC\n",
    "    LIMIT 5\n",
    "),\n",
    "TopCounties AS (\n",
    "    SELECT cd.disease, cc.county, \n",
    "        MAX(CAST(cc.rate AS REAL)) AS max_rate,\n",
    "        ROW_NUMBER() OVER (PARTITION BY cd.disease ORDER BY MAX(CAST(cc.rate AS REAL)) DESC) AS rank,\n",
    "        cd.sum_case\n",
    "    FROM (\n",
    "        SELECT DISTINCT disease, county, rate\n",
    "        FROM CountyCases\n",
    "        WHERE year = 2022\n",
    "    ) AS cc\n",
    "    JOIN CommonDiseases cd ON cc.disease = cd.disease\n",
    "    GROUP BY cd.disease, cc.county, cd.sum_case\n",
    ")\n",
    "SELECT disease, county, ROUND(max_rate, 3) AS max_rate\n",
    "FROM TopCounties\n",
    "WHERE rank <= 5\n",
    "ORDER BY sum_case DESC, disease, rank\n",
    "''')\n",
    "\n",
    "results = cursor.fetchall()\n",
    "for i, row in enumerate(results):\n",
    "    disease, county, max_rate = row\n",
    "    print(f\"{disease}: {county} County, {max_rate:.3f}\")  \n",
    "    if (i + 1) % 5 == 0:\n",
    "        print()"
   ]
  },
  {
   "cell_type": "markdown",
   "id": "464c611d-6687-427a-b4c8-3967a58a9758",
   "metadata": {},
   "source": [
    "#### User Inquiry"
   ]
  },
  {
   "cell_type": "code",
   "execution_count": null,
   "id": "21e75faa-c789-4595-acfb-47fbf2dbf87e",
   "metadata": {},
   "outputs": [
    {
     "name": "stdout",
     "output_type": "stream",
     "text": [
      "Get all of the cases by year for a desired disease, county, and sex.\n",
      "List for the Disease: ['Anaplasmosis' 'Anthrax' 'Babesiosis' 'Botulism, Foodborne'\n",
      " 'Botulism, Other/Unknown' 'Botulism, Wound' 'Brucellosis'\n",
      " 'Campylobacteriosis' 'Chikungunya Virus Infection' 'Cholera'\n",
      " 'Ciguatera Fish Poisoning' 'Coccidioidomycosis'\n",
      " 'Creutzfeldt-Jakob Disease and other Transmissible Spongiform Encephalopathies'\n",
      " 'Cryptosporidiosis' 'Cyclosporiasis' 'Cysticercosis or Taeniasis'\n",
      " 'Dengue Virus Infection' 'Domoic Acid Poisoning' 'Ehrlichiosis'\n",
      " 'Flavivirus Infection of Undetermined Species' 'Giardiasis'\n",
      " 'Hantavirus Infection' 'Hemolytic Uremic Syndrome'\n",
      " 'Hepatitis E, acute infection' 'Legionellosis' 'Leprosy' 'Leptospirosis'\n",
      " 'Listeriosis' 'Lyme Disease' 'Malaria' 'Paralytic Shellfish Poisoning'\n",
      " 'Paratyphoid Fever' 'Plague, human' 'Psittacosis' 'Q Fever'\n",
      " 'Rabies, human' 'Relapsing Fever' 'Salmonellosis'\n",
      " 'Scombroid Fish Poisoning'\n",
      " 'Shiga toxin-producing E. coli (STEC) with HUS'\n",
      " 'Shiga toxin-producing E. coli (STEC) without HUS' 'Shigellosis'\n",
      " 'Spotted Fever Rickettsiosis' 'Trichinosis' 'Tularemia'\n",
      " 'Typhoid Fever, case' 'Typhus Fever' 'Vibrio Infection (non-Cholera)'\n",
      " 'Viral Hemorrhagic Fevers (including Crimean-Congo, Ebola, Lassa, and Marburg viruses)'\n",
      " 'Yellow Fever' 'Yersiniosis' 'Zika Virus Infection']\n",
      "\n",
      "What disease would you like to examine?\n"
     ]
    }
   ],
   "source": [
    "print(\"Get all of the cases by year for a desired disease, county, and sex.\")\n",
    "inputs = [\"\", \"\", \"\"]\n",
    "options = ['Disease', 'County', 'Sex']\n",
    "for i in range(len(options)):\n",
    "    print(f\"List for the {options[i]}:\", final_df[options[i]].unique())\n",
    "    print()\n",
    "    print(f'What {options[i][0].lower()}{options[i][1:]} would you like to examine?')\n",
    "    inputs[i] = input('Input:').strip()\n",
    "\n",
    "    while inputs[i] not in final_df[options[i]].unique():\n",
    "        print(\"Your input must be in the list above.\")\n",
    "        inputs[i] = input('Input:').strip()\n",
    "    print()\n",
    "\n",
    "# get all available years for a specific disease\n",
    "years = df[df['Disease'] == inputs[0]]['Year'].unique()\n",
    "\n",
    "x = 'for the ' if inputs[2] != 'Total' else 'in '\n",
    "s = 's' if inputs[2] != 'Total' else ''\n",
    "print(f\"For {inputs[0]} in {inputs[1]} County, here are the number of cases {x}{inputs[2]}{s}\")\n",
    "\n",
    "# execute query for every year\n",
    "for year in years:\n",
    "    \n",
    "    query = f'''\n",
    "        SELECT year, cases FROM CountyCases\n",
    "        WHERE disease = '{inputs[0]}'\n",
    "        AND county = '{inputs[1]}'\n",
    "        AND sex = '{inputs[2]}'\n",
    "        AND year = {year}\n",
    "    '''\n",
    "    cursor.execute(query)\n",
    "    results = cursor.fetchall()\n",
    "\n",
    "    for row in results:\n",
    "        year, cases = row\n",
    "        print(f\"Year: {year}, Cases: {cases}\")\n",
    "        print()"
   ]
  },
  {
   "cell_type": "markdown",
   "id": "b3d555a3-fa14-4ff6-832c-0ac837871fd5",
   "metadata": {},
   "source": [
    "## Web Scraping"
   ]
  },
  {
   "cell_type": "code",
   "execution_count": null,
   "id": "abcaf256-e02d-479b-8c9a-83c23dbdf707",
   "metadata": {},
   "outputs": [],
   "source": [
    "# Search Wikipedia using search results or direct page match\n",
    "def search_wiki(disease):\n",
    "    search_url = f\"https://en.wikipedia.org/w/index.php?search={disease.replace(' ', '+')}\"\n",
    "    response = requests.get(search_url)\n",
    "    soup = BeautifulSoup(response.text, \"html.parser\")\n",
    "\n",
    "    # Get first search result\n",
    "    first = soup.find(\"li\", class_=\"mw-search-result\")\n",
    "    if first:\n",
    "        link = \"https://en.wikipedia.org\" + first.find(\"a\")[\"href\"]\n",
    "        return link\n",
    "    else:\n",
    "        # See if there's a direct page match\n",
    "        direct_match = soup.find(\"h1\", class_=\"firstHeading\")\n",
    "        if direct_match and \"Search results\" not in direct_match.text:\n",
    "            return search_url\n",
    "        return None"
   ]
  },
  {
   "cell_type": "code",
   "execution_count": null,
   "id": "660421a3-ee5e-4577-8538-eefd4a2f9ea6",
   "metadata": {},
   "outputs": [],
   "source": [
    "# Get wiki link for every disease\n",
    "for disease in unique_diseases:\n",
    "    link = search_wiki(disease)\n",
    "    if link:\n",
    "        cursor.execute('UPDATE Disease SET link = ? WHERE name = ?', (link, disease))\n",
    "conn.commit()\n",
    "\n",
    "cursor.execute(\"SELECT * FROM Disease\")\n",
    "rows = cursor.fetchall()\n",
    "for row in rows:\n",
    "    print(row)"
   ]
  },
  {
   "cell_type": "code",
   "execution_count": null,
   "id": "ce419de0-63f0-446f-a0b2-d11bac74e17e",
   "metadata": {},
   "outputs": [],
   "source": [
    "# Close connection\n",
    "conn.close()"
   ]
  }
 ],
 "metadata": {
  "kernelspec": {
   "display_name": "Python 3 (ipykernel)",
   "language": "python",
   "name": "python3"
  },
  "language_info": {
   "codemirror_mode": {
    "name": "ipython",
    "version": 3
   },
   "file_extension": ".py",
   "mimetype": "text/x-python",
   "name": "python",
   "nbconvert_exporter": "python",
   "pygments_lexer": "ipython3",
   "version": "3.12.2"
  }
 },
 "nbformat": 4,
 "nbformat_minor": 5
}
